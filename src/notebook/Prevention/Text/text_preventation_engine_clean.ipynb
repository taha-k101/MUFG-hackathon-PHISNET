{
 "nbformat": 4,
 "nbformat_minor": 0,
 "metadata": {
  "colab": {
   "provenance": []
  },
  "kernelspec": {
   "name": "python3",
   "display_name": "Python 3"
  },
  "language_info": {
   "name": "python"
  }
 },
 "cells": [
  {
   "cell_type": "markdown",
   "source": [
    "Text pipeline in agentic AI"
   ],
   "metadata": {
    "id": "z0czFe0cbO-J"
   }
  },
  {
   "cell_type": "code",
   "source": [
    "from google.colab import drive\n",
    "import zipfile, os"
   ],
   "metadata": {
    "id": "kYErvBP-WbrE"
   },
   "execution_count": 2,
   "outputs": []
  },
  {
   "cell_type": "code",
   "source": [
    "drive.mount('/content/drive')"
   ],
   "metadata": {
    "colab": {
     "base_uri": "https://localhost:8080/"
    },
    "id": "Lvu_jdvwcdrr",
    "outputId": "af0f2cb7-fcc8-41ea-b41d-fd87df21d766"
   },
   "execution_count": 3,
   "outputs": [
    {
     "output_type": "stream",
     "name": "stdout",
     "text": [
      "Drive already mounted at /content/drive; to attempt to forcibly remount, call drive.mount(\"/content/drive\", force_remount=True).\n"
     ]
    }
   ]
  },
  {
   "cell_type": "code",
   "source": [
    "DATA_DIR = \"/content/drive/MyDrive\""
   ],
   "metadata": {
    "id": "tjNupPUpcmeK"
   },
   "execution_count": 4,
   "outputs": []
  },
  {
   "cell_type": "code",
   "source": [
    "print(\"Files in MyDrive:\", os.listdir(DATA_DIR))"
   ],
   "metadata": {
    "colab": {
     "base_uri": "https://localhost:8080/"
    },
    "id": "RHGPTm2xcpE2",
    "outputId": "29cc129e-b882-4f75-b081-bb868862dad9"
   },
   "execution_count": 5,
   "outputs": [
    {
     "output_type": "stream",
     "name": "stdout",
     "text": [
      "Files in MyDrive: ['Tech M Project Progress', 'Tamanna_Resumes', 'Imagica Pics', 'Japan_Tech_M', 'MUFG SIH', 'Dataset files_MUFG_SIH.gdoc', 'Colab Notebooks', 'processed']\n"
     ]
    }
   ]
  },
  {
   "cell_type": "code",
   "source": [
    "DATA_DIR = \"/content/drive/MyDrive/MUFG SIH\""
   ],
   "metadata": {
    "id": "lQ_DMORpc0QL"
   },
   "execution_count": 6,
   "outputs": []
  },
  {
   "cell_type": "code",
   "source": [
    "print(\"Files in MUFG SIH:\", os.listdir(DATA_DIR))"
   ],
   "metadata": {
    "colab": {
     "base_uri": "https://localhost:8080/"
    },
    "id": "r4y9GXJYc82-",
    "outputId": "aca375f5-5819-40fd-bc94-fde1987133f5"
   },
   "execution_count": 7,
   "outputs": [
    {
     "output_type": "stream",
     "name": "stdout",
     "text": [
      "Files in MUFG SIH: ['email_phishing_dataset.zip', 'Dataset files_MUFG_SIH.gdoc', 'AgenticAI_approach.svg', 'Deepfake_video.zip', 'MUFG', 'SIH2025_Presentation.pptx.pdf', 'Deepfake_audio.zip', 'phishnet', 'processed', 'processed_audio_mfcc.csv', '02_intake_classification.ipynb', 'processed_video', 'models', 'models_audio', 'logs', 'deepfake_video', 'deepfake_video_subset', 'video_pipeline_visualizations.ipynb', 'audio_visuals_greenIT.ipynb', '01_data_preprocessing .ipynb', '03_text_pipeline_agentic.ipynb']\n"
     ]
    }
   ]
  },
  {
   "cell_type": "code",
   "source": [
    "text_out  = \"/content/email_phishing_dataset\""
   ],
   "metadata": {
    "id": "wDqJuP-sc_fI"
   },
   "execution_count": 8,
   "outputs": []
  },
  {
   "cell_type": "code",
   "source": [
    "os.makedirs(text_out, exist_ok=True)\n"
   ],
   "metadata": {
    "id": "y-QWBZwHdGa7"
   },
   "execution_count": 9,
   "outputs": []
  },
  {
   "cell_type": "code",
   "source": [
    "with zipfile.ZipFile(f\"{DATA_DIR}/email_phishing_dataset.zip\", 'r') as z:\n",
    "    z.extractall(text_out)"
   ],
   "metadata": {
    "id": "SeEI5mt-dInz"
   },
   "execution_count": 10,
   "outputs": []
  },
  {
   "cell_type": "code",
   "source": [
    "print(\"✅ Extraction complete\")\n",
    "print(\"Text files:\", len(os.listdir(text_out)))"
   ],
   "metadata": {
    "colab": {
     "base_uri": "https://localhost:8080/"
    },
    "id": "H1p_ghWUlIxZ",
    "outputId": "b7b746e1-26eb-4dd1-ad36-6e3ac01ab887"
   },
   "execution_count": 16,
   "outputs": [
    {
     "output_type": "stream",
     "name": "stdout",
     "text": [
      "✅ Extraction complete\n",
      "Text files: 7\n"
     ]
    }
   ]
  },
  {
   "cell_type": "code",
   "source": [
    "# ===== Fix environment versions (Colab) =====\n",
    "# 1) keep NumPy < 2\n",
    "!pip install -q \"numpy<2\"\n",
    "\n",
    "# 2) match torch / torchaudio / torchvision (CUDA 12.6 build that Colab uses)\n",
    "!pip install -q torch==2.8.0 torchaudio==2.8.0 torchvision==0.23.0 --extra-index-url https://download.pytorch.org/whl/cu126\n",
    "\n",
    "# 3) core libs for our pipelines\n",
    "!pip install -q transformers==4.44.2 regex tldextract urlextract textstat \\\n",
    "                 librosa==0.10.2.post1 soundfile scikit-learn==1.5.2 pandas==2.2.2 tqdm\n",
    "\n",
    "print(\"✅ Installed. Now go to: Runtime -> Restart runtime\")\n"
   ],
   "metadata": {
    "colab": {
     "base_uri": "https://localhost:8080/"
    },
    "id": "7kHSavy1dGp9",
    "outputId": "98f14719-8a1c-4e69-bc49-02260af157a9"
   },
   "execution_count": 13,
   "outputs": [
    {
     "output_type": "stream",
     "name": "stdout",
     "text": [
      "\u001b[?25l   \u001b[90m━━━━━━━━━━━━━━━━━━━━━━━━━━━━━━━━━━━━━━━━\u001b[0m \u001b[32m0.0/563.4 kB\u001b[0m \u001b[31m?\u001b[0m eta \u001b[36m-:--:--\u001b[0m\r\u001b[2K   \u001b[90m━━━━━━━━━━━━━━━━━━━━━━━━━━━━━━━━━━━━━━━━\u001b[0m \u001b[32m563.4/563.4 kB\u001b[0m \u001b[31m17.1 MB/s\u001b[0m eta \u001b[36m0:00:00\u001b[0m\n",
      "\u001b[?25h\u001b[?25l   \u001b[90m━━━━━━━━━━━━━━━━━━━━━━━━━━━━━━━━━━━━━━━━\u001b[0m \u001b[32m0.0/485.8 kB\u001b[0m \u001b[31m?\u001b[0m eta \u001b[36m-:--:--\u001b[0m\r\u001b[2K   \u001b[90m━━━━━━━━━━━━━━━━━━━━━━━━━━━━━━━━━━━━━━━━\u001b[0m \u001b[32m485.8/485.8 kB\u001b[0m \u001b[31m35.3 MB/s\u001b[0m eta \u001b[36m0:00:00\u001b[0m\n",
      "\u001b[?25h\u001b[31mERROR: pip's dependency resolver does not currently take into account all the packages that are installed. This behaviour is the source of the following dependency conflicts.\n",
      "torchtune 0.6.1 requires datasets, which is not installed.\u001b[0m\u001b[31m\n",
      "\u001b[0m✅ Installed. Now go to: Runtime -> Restart runtime\n"
     ]
    }
   ]
  },
  {
   "cell_type": "code",
   "source": [
    "!pip uninstall -y transformers huggingface_hub safetensors"
   ],
   "metadata": {
    "colab": {
     "base_uri": "https://localhost:8080/"
    },
    "id": "eYfPiIi-ZMXT",
    "outputId": "bfdb7ea5-258a-4f4b-bdc2-8065266c9613"
   },
   "execution_count": 14,
   "outputs": [
    {
     "output_type": "stream",
     "name": "stdout",
     "text": [
      "Found existing installation: transformers 4.44.2\n",
      "Uninstalling transformers-4.44.2:\n",
      "  Successfully uninstalled transformers-4.44.2\n",
      "Found existing installation: huggingface-hub 0.35.0\n",
      "Uninstalling huggingface-hub-0.35.0:\n",
      "  Successfully uninstalled huggingface-hub-0.35.0\n",
      "Found existing installation: safetensors 0.6.2\n",
      "Uninstalling safetensors-0.6.2:\n",
      "  Successfully uninstalled safetensors-0.6.2\n"
     ]
    }
   ]
  },
  {
   "cell_type": "code",
   "source": [
    "!pip uninstall -y transformers huggingface-hub safetensors accelerate peft datasets diffusers"
   ],
   "metadata": {
    "colab": {
     "base_uri": "https://localhost:8080/"
    },
    "id": "dmLvsI_weaua",
    "outputId": "9df7c360-1091-4210-ee8d-ddf685f92a8e"
   },
   "execution_count": 15,
   "outputs": [
    {
     "output_type": "stream",
     "name": "stdout",
     "text": [
      "\u001b[33mWARNING: Skipping transformers as it is not installed.\u001b[0m\u001b[33m\n",
      "\u001b[0m\u001b[33mWARNING: Skipping huggingface-hub as it is not installed.\u001b[0m\u001b[33m\n",
      "\u001b[0m\u001b[33mWARNING: Skipping safetensors as it is not installed.\u001b[0m\u001b[33m\n",
      "\u001b[0m\u001b[33mWARNING: Skipping accelerate as it is not installed.\u001b[0m\u001b[33m\n",
      "\u001b[0m\u001b[33mWARNING: Skipping peft as it is not installed.\u001b[0m\u001b[33m\n",
      "\u001b[0m\u001b[33mWARNING: Skipping datasets as it is not installed.\u001b[0m\u001b[33m\n",
      "\u001b[0m\u001b[33mWARNING: Skipping diffusers as it is not installed.\u001b[0m\u001b[33m\n",
      "\u001b[0m"
     ]
    }
   ]
  },
  {
   "cell_type": "code",
   "source": [
    "!pip uninstall -y gradio gcsfs\n",
    "!pip install -q \\\n",
    "  \"transformers==4.44.2\" \\\n",
    "  \"huggingface-hub==0.24.6\" \\\n",
    "  \"safetensors==0.4.5\" \\\n",
    "  \"accelerate==0.34.2\" \\\n",
    "  \"peft==0.12.0\" \\\n",
    "  \"datasets==3.0.2\" \\\n",
    "  \"diffusers==0.30.2\" \\\n",
    "  \"fsspec==2024.9.0\"\n"
   ],
   "metadata": {
    "colab": {
     "base_uri": "https://localhost:8080/"
    },
    "id": "LoKjZLL6egkF",
    "outputId": "9af2c0bf-5752-452a-f1c7-280e4922dd1c"
   },
   "execution_count": 16,
   "outputs": [
    {
     "output_type": "stream",
     "name": "stdout",
     "text": [
      "Found existing installation: gradio 5.44.1\n",
      "Uninstalling gradio-5.44.1:\n",
      "  Successfully uninstalled gradio-5.44.1\n",
      "Found existing installation: gcsfs 2025.3.0\n",
      "Uninstalling gcsfs-2025.3.0:\n",
      "  Successfully uninstalled gcsfs-2025.3.0\n",
      "\u001b[2K   \u001b[90m━━━━━━━━━━━━━━━━━━━━━━━━━━━━━━━━━━━━━━━━\u001b[0m \u001b[32m417.5/417.5 kB\u001b[0m \u001b[31m16.3 MB/s\u001b[0m eta \u001b[36m0:00:00\u001b[0m\n",
      "\u001b[2K   \u001b[90m━━━━━━━━━━━━━━━━━━━━━━━━━━━━━━━━━━━━━━━━\u001b[0m \u001b[32m434.8/434.8 kB\u001b[0m \u001b[31m10.7 MB/s\u001b[0m eta \u001b[36m0:00:00\u001b[0m\n",
      "\u001b[2K   \u001b[90m━━━━━━━━━━━━━━━━━━━━━━━━━━━━━━━━━━━━━━━━\u001b[0m \u001b[32m324.4/324.4 kB\u001b[0m \u001b[31m16.8 MB/s\u001b[0m eta \u001b[36m0:00:00\u001b[0m\n",
      "\u001b[2K   \u001b[90m━━━━━━━━━━━━━━━━━━━━━━━━━━━━━━━━━━━━━━━━\u001b[0m \u001b[32m296.4/296.4 kB\u001b[0m \u001b[31m7.3 MB/s\u001b[0m eta \u001b[36m0:00:00\u001b[0m\n",
      "\u001b[2K   \u001b[90m━━━━━━━━━━━━━━━━━━━━━━━━━━━━━━━━━━━━━━━━\u001b[0m \u001b[32m472.7/472.7 kB\u001b[0m \u001b[31m34.7 MB/s\u001b[0m eta \u001b[36m0:00:00\u001b[0m\n",
      "\u001b[2K   \u001b[90m━━━━━━━━━━━━━━━━━━━━━━━━━━━━━━━━━━━━━━━━\u001b[0m \u001b[32m2.6/2.6 MB\u001b[0m \u001b[31m85.5 MB/s\u001b[0m eta \u001b[36m0:00:00\u001b[0m\n",
      "\u001b[2K   \u001b[90m━━━━━━━━━━━━━━━━━━━━━━━━━━━━━━━━━━━━━━━━\u001b[0m \u001b[32m179.3/179.3 kB\u001b[0m \u001b[31m15.4 MB/s\u001b[0m eta \u001b[36m0:00:00\u001b[0m\n",
      "\u001b[?25h\u001b[31mERROR: pip's dependency resolver does not currently take into account all the packages that are installed. This behaviour is the source of the following dependency conflicts.\n",
      "bigframes 2.19.0 requires gcsfs!=2025.5.0,>=2023.3.0, which is not installed.\u001b[0m\u001b[31m\n",
      "\u001b[0m"
     ]
    }
   ]
  },
  {
   "cell_type": "code",
   "source": [
    "import torch\n",
    "from transformers import pipeline, AutoTokenizer, AutoModelForCausalLM\n",
    "\n",
    "# check torch & cuda\n",
    "print(\"Torch version:\", torch.__version__)\n",
    "print(\"CUDA available:\", torch.cuda.is_available())\n",
    "\n",
    "# Quick HF test: sentiment analysis pipeline\n",
    "sentiment = pipeline(\"sentiment-analysis\")\n",
    "print(\"Test sentiment:\", sentiment(\"I love using HuggingFace Transformers!\"))\n"
   ],
   "metadata": {
    "colab": {
     "base_uri": "https://localhost:8080/",
     "height": 397,
     "referenced_widgets": [
      "00cd204732bf4aab8ff50bdafcdb44f8",
      "5f7f22ec7e0545de9fbea8549309241b",
      "944a5654e2934439b1a9878afb6451b7",
      "41091a99524e483b863191b22bd42c0b",
      "491e2edc272b47f18b3555feaad22106",
      "aed4bbbe21f64bd3911a44526ae1c8f2",
      "185fedb51f0d41689e00997aa0e50655",
      "5f02aa578dc041a68fa3b146ffab1c7e",
      "f1b4541846ce46ac89da65b4ca6d994e",
      "23427e26b69c455c9dc6aa5e967d79cf",
      "09788f9cca584a2da002efd62eb388a5",
      "f4a8279692df403cbffa6a01e841ea22",
      "a3100f04473a4bc9ba47510b4649dc81",
      "a8c1e9e7c88c404a8edf56093e21bcc4",
      "420b5308110c45f6b49eef297a3bdc5b",
      "a80ea169d6314af6a61a22c7c928baaf",
      "c6048f2237ad4e67b2b97b2071a42c4d",
      "1aff9fd4f3294b90aca2b6ed84b99b9c",
      "d79e2df0df7a427a97ccc20dfbbbf713",
      "d37d49e85f684bb4abbcd3eb5f576c76",
      "35542c4ac3144e8ca797d2eb87dc3944",
      "a81ce9b061c54930b677b8824b84e8ac",
      "6c0260dab83f4d859199641598659ba7",
      "01bb0ee707374ae0836fc4c5a520a47c",
      "78855a0118fd49b7957a01dc9291348a",
      "a4eea44a176044718aa18c5bdbe0b70f",
      "da6f3f9f341b45bb9300cc8f160a8007",
      "a84eb6a21af04ef2b28d5c61c1b9be82",
      "bddc532a978342e2ab00bc1cab0a50a0",
      "737a7e01fe154c00a012ae78b648aae2",
      "d199398a27524173be6b215939297d04",
      "d8c71844b90d47159f4d8d66e9e95a96",
      "1243a3ccc2e44a7cbeac265b1e31f553",
      "6df16b1b69674e51a83f2b3dc9df5e5f",
      "79540c4ee0b94f5398afa3c217be9f75",
      "c6c5501a7a3d4bb1b6b37d1d15e75ff2",
      "d30a729417634e64af9b33450562a17f",
      "692bfe0830f34be9a9821df4edfa6fad",
      "cac17cba6ac2421188eb3ceab202c0f7",
      "252157ca1e6f43ab955cab29da0ca17d",
      "b3bc77a80acd4a599b10528e2b495565",
      "d6dac2f8c6de40a69bd1b17c8dfeb5da",
      "fb5f8e3555c841cb87879af03f058ba3",
      "ef77085f2ebe4bcea930982f28f8a895"
     ]
    },
    "id": "ZTbp7mNifbzg",
    "outputId": "d844ed47-b7bd-41a1-b835-b74faa52fba9"
   },
   "execution_count": 17,
   "outputs": [
    {
     "output_type": "stream",
     "name": "stderr",
     "text": [
      "No model was supplied, defaulted to distilbert/distilbert-base-uncased-finetuned-sst-2-english and revision af0f99b (https://huggingface.co/distilbert/distilbert-base-uncased-finetuned-sst-2-english).\n",
      "Using a pipeline without specifying a model name and revision in production is not recommended.\n"
     ]
    },
    {
     "output_type": "stream",
     "name": "stdout",
     "text": [
      "Torch version: 2.8.0+cu126\n",
      "CUDA available: False\n"
     ]
    },
    {
     "output_type": "stream",
     "name": "stderr",
     "text": [
      "/usr/local/lib/python3.12/dist-packages/huggingface_hub/utils/_token.py:89: UserWarning: \n",
      "The secret `HF_TOKEN` does not exist in your Colab secrets.\n",
      "To authenticate with the Hugging Face Hub, create a token in your settings tab (https://huggingface.co/settings/tokens), set it as secret in your Google Colab and restart your session.\n",
      "You will be able to reuse this secret in all of your notebooks.\n",
      "Please note that authentication is recommended but still optional to access public models or datasets.\n",
      "  warnings.warn(\n"
     ]
    },
    {
     "output_type": "display_data",
     "data": {
      "text/plain": [
       "config.json:   0%|          | 0.00/629 [00:00<?, ?B/s]"
      ],
      "application/vnd.jupyter.widget-view+json": {
       "version_major": 2,
       "version_minor": 0,
       "model_id": "00cd204732bf4aab8ff50bdafcdb44f8"
      }
     },
     "metadata": {}
    },
    {
     "output_type": "display_data",
     "data": {
      "text/plain": [
       "model.safetensors:   0%|          | 0.00/268M [00:00<?, ?B/s]"
      ],
      "application/vnd.jupyter.widget-view+json": {
       "version_major": 2,
       "version_minor": 0,
       "model_id": "f4a8279692df403cbffa6a01e841ea22"
      }
     },
     "metadata": {}
    },
    {
     "output_type": "display_data",
     "data": {
      "text/plain": [
       "tokenizer_config.json:   0%|          | 0.00/48.0 [00:00<?, ?B/s]"
      ],
      "application/vnd.jupyter.widget-view+json": {
       "version_major": 2,
       "version_minor": 0,
       "model_id": "6c0260dab83f4d859199641598659ba7"
      }
     },
     "metadata": {}
    },
    {
     "output_type": "display_data",
     "data": {
      "text/plain": [
       "vocab.txt: 0.00B [00:00, ?B/s]"
      ],
      "application/vnd.jupyter.widget-view+json": {
       "version_major": 2,
       "version_minor": 0,
       "model_id": "6df16b1b69674e51a83f2b3dc9df5e5f"
      }
     },
     "metadata": {}
    },
    {
     "output_type": "stream",
     "name": "stdout",
     "text": [
      "Test sentiment: [{'label': 'POSITIVE', 'score': 0.9898301959037781}]\n"
     ]
    },
    {
     "output_type": "stream",
     "name": "stderr",
     "text": [
      "/usr/local/lib/python3.12/dist-packages/transformers/tokenization_utils_base.py:1601: FutureWarning: `clean_up_tokenization_spaces` was not set. It will be set to `True` by default. This behavior will be depracted in transformers v4.45, and will be then set to `False` by default. For more details check this issue: https://github.com/huggingface/transformers/issues/31884\n",
      "  warnings.warn(\n"
     ]
    }
   ]
  },
  {
   "cell_type": "code",
   "source": [
    "import pandas as pd\n",
    "import os\n",
    "\n",
    "# Path to preprocessed email dataset\n",
    "TEXT_DIR = \"/content/email_phishing_dataset\"\n",
    "\n",
    "dfs = []\n",
    "for fname in os.listdir(TEXT_DIR):\n",
    "    if fname.endswith(\".csv\"):\n",
    "        fpath = os.path.join(TEXT_DIR, fname)\n",
    "        try:\n",
    "            # ✅ FIX: removed errors= argument\n",
    "            df = pd.read_csv(fpath, encoding=\"utf-8\")\n",
    "            df[\"source_file\"] = fname   # keep origin\n",
    "            dfs.append(df)\n",
    "            print(f\"✅ Loaded {fname} with {len(df)} rows\")\n",
    "        except Exception as e:\n",
    "            print(f\"⚠️ Skipping {fname}: {e}\")\n",
    "\n",
    "# ✅ Only concat if we got at least one dataframe\n",
    "if dfs:\n",
    "    df_emails = pd.concat(dfs, ignore_index=True)\n",
    "    print(\"\\n=== Dataset Summary ===\")\n",
    "    print(\"Total rows:\", len(df_emails))\n",
    "    print(\"Columns:\", df_emails.columns.tolist())\n",
    "    print(df_emails.head())\n",
    "else:\n",
    "    print(\"❌ No CSVs loaded. Please check file format.\")\n"
   ],
   "metadata": {
    "colab": {
     "base_uri": "https://localhost:8080/"
    },
    "id": "E3SVVURTg5eD",
    "outputId": "f6c37cb0-5ff1-42c9-a3a9-d69836c787e8"
   },
   "execution_count": 18,
   "outputs": [
    {
     "output_type": "stream",
     "name": "stdout",
     "text": [
      "✅ Loaded Ling.csv with 2859 rows\n",
      "✅ Loaded phishing_email.csv with 82486 rows\n",
      "✅ Loaded Nigerian_Fraud.csv with 3332 rows\n",
      "✅ Loaded Enron.csv with 29767 rows\n",
      "✅ Loaded SpamAssasin.csv with 5809 rows\n",
      "✅ Loaded Nazario.csv with 1565 rows\n",
      "✅ Loaded CEAS_08.csv with 39154 rows\n",
      "\n",
      "=== Dataset Summary ===\n",
      "Total rows: 164972\n",
      "Columns: ['subject', 'body', 'label', 'source_file', 'text_combined', 'sender', 'receiver', 'date', 'urls']\n",
      "                                             subject  \\\n",
      "0            job posting - apple-iss research center   \n",
      "1                                                NaN   \n",
      "2  query : letter frequencies for text identifica...   \n",
      "3                                               risk   \n",
      "4                           request book information   \n",
      "\n",
      "                                                body  label source_file  \\\n",
      "0  content - length : 3386 apple-iss research cen...      0    Ling.csv   \n",
      "1  lang classification grimes , joseph e . and ba...      0    Ling.csv   \n",
      "2  i am posting this inquiry for sergei atamas ( ...      0    Ling.csv   \n",
      "3  a colleague and i are researching the differin...      0    Ling.csv   \n",
      "4  earlier this morning i was on the phone with a...      0    Ling.csv   \n",
      "\n",
      "  text_combined sender receiver date  urls  \n",
      "0           NaN    NaN      NaN  NaN   NaN  \n",
      "1           NaN    NaN      NaN  NaN   NaN  \n",
      "2           NaN    NaN      NaN  NaN   NaN  \n",
      "3           NaN    NaN      NaN  NaN   NaN  \n",
      "4           NaN    NaN      NaN  NaN   NaN  \n"
     ]
    }
   ]
  },
  {
   "cell_type": "code",
   "source": [
    "# Merge subject + body (if present)\n",
    "if \"subject\" in df_emails.columns and \"body\" in df_emails.columns:\n",
    "    df_emails[\"text\"] = (\n",
    "        df_emails[\"subject\"].fillna(\"\") + \" \" + df_emails[\"body\"].fillna(\"\")\n",
    "    )\n",
    "elif \"body\" in df_emails.columns:\n",
    "    df_emails[\"text\"] = df_emails[\"body\"].fillna(\"\")\n",
    "elif \"content\" in df_emails.columns:\n",
    "    df_emails[\"text\"] = df_emails[\"content\"].fillna(\"\")\n",
    "else:\n",
    "    raise ValueError(\"No suitable text column found in dataset\")\n",
    "\n",
    "print(\"Sample combined text:\\n\", df_emails[\"text\"].head(3).tolist())\n"
   ],
   "metadata": {
    "colab": {
     "base_uri": "https://localhost:8080/"
    },
    "id": "-845851ehffU",
    "outputId": "f7e23347-9cfb-49d1-ee80-72dcd3f4df3b"
   },
   "execution_count": 19,
   "outputs": [
    {
     "output_type": "stream",
     "name": "stdout",
     "text": [
      "Sample combined text:\n",
      " [\"job posting - apple-iss research center content - length : 3386 apple-iss research center a us $ 10 million joint venture between apple computer inc . and the institute of systems science of the national university of singapore , located in singapore , is looking for : a senior speech scientist - - - - - - - - - - - - - - - - - - - - - - - - - the successful candidate will have research expertise in computational linguistics , including natural language processing and * * english * * and * * chinese * * statistical language modeling . knowledge of state-of - the-art corpus-based n - gram language models , cache language models , and part-of - speech language models are required . a text - to - speech project leader - - - - - - - - - - - - - - - - - - - - - - - - - - - - - - - the successful candidate will have research expertise expertise in two or more of the following areas : computational linguistics , including natural language parsing , lexical database design , and statistical language modeling ; text tokenization and normalization ; prosodic analysis . substantial knowledge of the phonology , syntax , and semantics of chinese is required . knowledge of acoustic phonetics and / or speech signal processing is desirable . both candidates will have a phd with at least 2 to 4 years of relevant work experience , or a technical msc degree with at least 5 to 7 years of experienc e . very strong software engineering skills , including design and implementation , and productization are required in these positions . knowledge of c , c + + and unix are preferred . a unix & c programmer - - - - - - - - - - - - - - - - - - - - we are looking for an experienced unix & c programmer , preferably with good industry experience , to join us in breaking new frontiers . strong knowledge of unix tools ( compilers , linkers , make , x - windows , e - mac , . . . ) and experience in matlab required . sun and silicon graphic experience is an advantage . programmers with less than two years industry experience need not apply . these positions include interaction with scientists in the national university of singapore , and with apple 's speech research and productization efforts located in cupertino , california . attendance and publication in international scientific / engineering conferences is encouraged . benefits include an internationally competitive salary , housing subsidy , and relocation expenses . _ _ _ _ _ _ _ _ _ _ _ _ _ _ _ _ _ _ _ _ _ _ _ _ _ _ _ _ _ _ _ _ _ _ _ _ _ _ _ _ _ _ _ _ _ _ _ _ _ _ _ _ _ _ _ _ _ _ _ _ _ _ _ _ _ _ send a complete resume , enclosing personal particulars , qualifications , experience and contact telephone number to : mr jean - luc lebrun center manager apple - iss research center , institute of systems science heng mui keng terrace , singapore 0511 tel : ( 65 ) 772-6571 fax : ( 65 ) 776-4005 email : jllebrun @ iss . nus . sg\\r\\n\", ' lang classification grimes , joseph e . and barbara f . grimes ; ethnologue language family index ; pb . isbn : 0-88312 - 708 - 3 ; vi , 116 pp . ; $ 14 . 00 . summer institute of linguistics . this companion volume to ethnologue : languages of the world , twelfth edition lists language families of the world with sub-groups shown in a tree arrangement under the broadest classification of language family . the language family index facilitates locating language names in the ethnologue , making the data there more accessible . internet : academic . books @ sil . org languages , reference lang & culture gregerson , marilyn ; ritual , belief , and kinship in sulawesi ; pb . : isbn : 0-88312 - 621 - 4 ; ix , 194 pp . ; $ 25 . 00 . summer institute of linguistics . seven articles discuss five language groups in sulawesi , indonesia ; the primary focus is on cultural matters , with some linguistic content . topics include traditional religion and beliefs , certain ceremonies , and kinship . internet : academic . books @ sil . org language and society , indonesia computers & ling weber , david j . , stephen r . mcconnel , diana d . weber , and beth j . bryson ; primer : a tool for developing early reading materials ; pb . : isbn : 0-88313 - 678 - 8 ; xvi , 266 pp . + ms-dos software ; $ 26 . 00 . summer institute of linguistics . the authors present a computer program and instructions for developing reading materials in languages with little or no background in literacy . the book is structured as a how-to manual with step by step procedures to establish an appropriate primer sequence and to organize words , phrases , and sentences that correlate with the sequence . it presupposes a thorough knowledge of linguistics . internet : academic . books @ sil . org literacy , computer\\r\\n', \"query : letter frequencies for text identification i am posting this inquiry for sergei atamas ( satamas @ umabnet . ab . umd . edu ) , a research associate at the university of maryland at baltimore . his field is molecular biology , and his work involves comparing dna strings using various algorithms . i do n't understand the details well enough to pass them along . at any rate , one such algorithm relies upon frequencies with which the letters g , a , t , and c occur in the dna strings . he would like to explore the analogous use of letter ( sound ) frequencies in natural language texts . hence this posting . specifically , sergei wonders if any linguist subscribers could help steer him to recent literature concerning text identification based on letter frequencies . any suggestions could be sent directly to him at the above address , or to me and i ' ll pass them along . he would also be interested in collaborative work if this research connects with the work of any linguists or text processing specialists . he observes that very often work in one field would actually help work in a far-removed field , if only people knew what was going on over there . george fowler george fowler gfowler @ indiana . edu [ email ] dept . of slavic languages * * 1-317 - 726-1482 [ home ] * * [ try here first ! ] ballantine 502 1-812 - 855-2624 / - 2608 / - 9906 [ dept . ] indiana university 1-812 - 855-2829 [ office ] bloomington , in 47405 usa 1-812 - 855-2107 [ dept . fax ]\\r\\n\"]\n"
     ]
    }
   ]
  },
  {
   "cell_type": "code",
   "source": [
    "from transformers import AutoTokenizer, AutoModelForSequenceClassification, pipeline\n",
    "\n",
    "MODELS = {\n",
    "    \"phishing\": \"mrm8488/bert-tiny-finetuned-sms-spam-detection\",\n",
    "    \"sentiment\": \"distilbert-base-uncased-finetuned-sst-2-english\",\n",
    "    \"toxic\": \"unitary/toxic-bert\"\n",
    "}\n",
    "\n",
    "pipes = {}\n",
    "\n",
    "for name, model_name in MODELS.items():\n",
    "    tok = AutoTokenizer.from_pretrained(model_name)\n",
    "    model = AutoModelForSequenceClassification.from_pretrained(model_name)\n",
    "    pipes[name] = pipeline(\"text-classification\", model=model, tokenizer=tok, device=-1)\n"
   ],
   "metadata": {
    "id": "sPQy1980h21Y",
    "colab": {
     "base_uri": "https://localhost:8080/",
     "height": 521,
     "referenced_widgets": [
      "6db418a7b52d48cda6bdda2f1115dfcc",
      "5db16de8442543f291b72cc421bb5736",
      "efd1a548b65b4062a363d4f6f0726610",
      "601e78a0b04844c8afcee1e3c2fce863",
      "562bedc9e00244929c0004b5098f09c7",
      "ae205b80f81748f4b57ce5f2a265a8b0",
      "2c441ca51567453faae2a55ca12aae1e",
      "fba5ac2c81494023b32a7e04ab332230",
      "4622699c640042dbaa6560bd42db047f",
      "c7dba84975bc4ed6ba760f843b4d4511",
      "f04b99a975294e88a0910dd9ffa58fd6",
      "0c639d73d9444fa2a9ecc3d8265f1f76",
      "0fff673832e1413ab9faac51d64cb7a8",
      "20f2df50ef484d8ca231eaad759a35ba",
      "21918ddf0b674e06843d968375506b92",
      "d4abc9be4e47436dacdbc817de022874",
      "cd9a24d5a3754e17b971fa403c3d5ba8",
      "ef7bfc1ae3f54bf99c0a070c06c7b695",
      "97c861bc643c49b28c3fb1df948ba562",
      "51cad0ffda334c6e9c9a247e2394e2fb",
      "6dda061a8c5d4a5a89d4e52e4a408fcb",
      "f44e413557944e93800a637fdae2d66e",
      "aee28e3aabd14060b8b12cc1bccd804e",
      "1ac20e6419d4418bab7ffb0c4d3e23e3",
      "b64428334b1a461b81d3361d94f3cda4",
      "0ba967c08cb8401383d98210d6a9c51e",
      "288d4874a823495680f34ef22108f4d7",
      "e274a57fab314a828fbc176e96bf8ccd",
      "5b3848fa05dd4be483c73138aa42de8e",
      "d4259418ad024865980e68bd74003ac2",
      "9d630ff9069544a5af3f2a0fa18a1313",
      "2f61bd79592a4b8dbe2e5050404cc9df",
      "3b649b5081944dd5a3bfb9ce15da9ec8",
      "75dd465b6b554e0eb06b67b2b905ab40",
      "10a60e0ee5fa406db77b65892a18e6be",
      "bd4e2c313c864345bf8a04ec4f2bee7f",
      "95d9569efbe948348916eb3074dc7755",
      "ba1794134de140a6a1b39aa6dd85352e",
      "bdf025d2a41b45d0b51e42ed1c6f5ca9",
      "fb075c0643734878a976d0bcd2f88f4c",
      "53c3c4e56e6c4674bd9cc0a491610bc8",
      "a39edef9573c4965a3f8566fcaf8a3a5",
      "e746bb0adfcd4730aabdc514c200d167",
      "ea4b97bf60f54d39a23b9daae2218a73",
      "6301c3042c8d434980817fccec2063de",
      "e1d9eb3037844fbdb0b065769fab76b2",
      "9e5c5c012f5b44bebb8ecd19ef30ed7d",
      "4312d43041924751afd5c185858f805a",
      "dc0a1377c10b481e9d745b19bac18e1a",
      "147870fc8678451a8775d6eb81a4f010",
      "60ed9e6427f447049a3e324b9fb24ee8",
      "231b796449be4f0081890d650f6a61d6",
      "bd0de6569cca47f086209a1bf0b88854",
      "a21599864f784554a486025b4eed4305",
      "ad9fad34c7c045d88abd6bc9745114ca",
      "1ca685b9b20244c5bb563c390ffd81d7",
      "493052e1d0084b45bdaa0094e3bae9dd",
      "b11b152f78c24f06827790421dc9d716",
      "256395feaf75471899894d3af8953b15",
      "d74279fd8cdc4e4f889c0d0ecc0578cb",
      "837b8a1a8b894a8fbc34612461598c44",
      "ff62580586df4ff09f4e574d04bee0fd",
      "1e6aea7773e0471fa189017a0bbf259b",
      "1f3a831ba8714615941a783f21db3267",
      "47a2afada0f949038e40e86714101f80",
      "c0e3ea44a51b4cc1a1d7274a01d163fd",
      "894fe3a05bff4073a12e7697893a67aa",
      "a5a3e0a8d5734f4bacece9905175a9a8",
      "705aae8f81cd4ccab97bf9cc71f064f2",
      "bef2b759f04247b7a2b9c261ee3c0505",
      "71b53a33034c48ccbc1400b931efd006",
      "3a7d235971ce4094927532d739e7289a",
      "e0f43cae16f64a72b23ba6d5123d0090",
      "553dc13ea95945e99678631cebc7414d",
      "8a742735d4654481bb45b954043428c9",
      "bf83c35da3e641d4bb76f2ba7389fe0b",
      "d2245d1ed6b340e593bc6714fb5dacbc",
      "8ee70107ed294a7aba113b9a29fc5cda",
      "69e9b4f5b0eb48a9acbd4da9a063feb1",
      "9bf366c97513419ba836633369c029b1",
      "14c27e6f69234c7ea93076e54a9eee5a",
      "ed21f96ab1fd4b81bdfb60b998200d7b",
      "973489efd2f14473a12384f4bee70714",
      "084e06eb4b5f42c6b953615eeaa5e740",
      "fb5547cea1d242a4ad3b5d4941ca5cf8",
      "c2074ba64f9a4321a56486d0e33523c0",
      "9cc47be9621d4bb2b3314c9dfaf10eca",
      "074bd55bf57c4d93a743c2f36ba3d050",
      "6361ca07456e43ce9e7f347b6b93462d",
      "947f52fb26434e51afb70e6e505a1fd9",
      "ab2a1885122f4889bc927e304758c4e6",
      "1274c5355bfd43e38d16f91b671965b4",
      "1d0e9d7493cf4c8ebee568fe288af27b",
      "f8c2574cc3884e85939c9dbc0def07ec",
      "254318043ec648a18de608952425aca3",
      "18b8c0d4dc3340f797c8f6228f5b32b8",
      "a816ccd5db37408dbad732a49704eb72",
      "1d6a3a3b8d5742aa89b55499d5f1aa0a",
      "5246c0a3810346fbbc12a99df3d956fd",
      "fcb0065a1b834cd2856cd4e4ae66f30f",
      "58a9a7d5cdda49a3bae6ac42212f152c",
      "82e3806cf06842919315ae941efdcfa1",
      "5a4185184de94a91ae42a909364376c6",
      "4b7f01312d7c4bfab22057210d34aaa7",
      "34b57cf1ab8042a88035725219894820",
      "2f9b53124b48492fbaa790b064d88fae",
      "7478339ed663435c868d4e6297786546",
      "071afdad8563422daf44f2c541c9edff",
      "290236bb856b46b2b598c752ecf56640",
      "70637464ee294391ab082dee28d0a285",
      "d97ead74bb0e49fcabb030076a895d5f",
      "5dd08b51c6894c268230a5feb337ce78",
      "02356ce920d34b3ebb3fde10e833b006",
      "d4a9590ecf8a4d88aef2599e83a5714a",
      "77aa929e64824a3fbd9df1a534ac0701",
      "dee3f742440845fb874b67a20494379b",
      "f66e5348173a4f1bb5e0514f877c0f3f",
      "9cd9da3b536d4a1b9950e302121aa9f1",
      "f7d450f6af334e17bcb9135c60b0e64c",
      "b335a3b6813d4e748e35764e4626ea0c",
      "cef4a68cd93644238670c92ecaeb4026",
      "53ab0f4ccf8a429da9dc9f094eeb0812",
      "cc9bd3e87db84abfa731d987704881d8",
      "57eb788f9e844e739697357e007cd044",
      "2c659ee182b14aa1a8f6f4c52626d9a8",
      "de61b999f9984ebea997da12adccd2dc",
      "42c233045db043bd929b2d808bc0814f",
      "4a79e779242c49e8bdc34101dff88960",
      "226e01fc989540a8be6275c20d122e3d",
      "79eea870e6cc4b26890806e0fefd696e",
      "cc6217a2decd496f967a5cce4dcefd2d",
      "34c118a2feac4c3c8f90a0242bbdb72d",
      "3a8890bae2ed4b26a70439a721f42b37",
      "710ce67f5de346dba1e226bdcb02c14e",
      "7d487517c281462c8734de95443480f9",
      "ee70016542b84c038b59c59c5a2710f6",
      "fac52c5d125c4cf3887b8cdca11826ea",
      "010dce8d078c4b4b90a892807132200c",
      "1ba920f7018b4266a75b1f3ce25403ee",
      "40a3041ae1334dffb0ee802ea479005b",
      "6f3764bb42d245f2b8b820350aa72991",
      "48518cc71bed4329a4c61527e81076ab",
      "6199a9274b2e4905836561c5fd902cdc",
      "b46404cc6c7640488aed2ce7df7fb1d5",
      "4452e142d98942eb959511ffcb0b1608",
      "cd44014d4df14294bbe5b3f6391c07c1",
      "c9610e4bd51f4ebebb1f642d3db451d6",
      "ee7f448c38f94675aa6108e30e87fa6f",
      "f298e3654d0646aa98b5009103030f05",
      "415d1044483c4d2092f41bfc28229900",
      "88a9e1f403334825a86b827f59dc67bf",
      "1b9632129be044548ac138eae5d61771",
      "adfedb6462584606ad4e665968d38efd",
      "50faa668b6f44be8b703a0f2d816960b"
     ]
    },
    "outputId": "16e9481c-4701-4c4e-a6af-6ac57cc753fc"
   },
   "execution_count": 20,
   "outputs": [
    {
     "output_type": "display_data",
     "data": {
      "text/plain": [
       "tokenizer_config.json:   0%|          | 0.00/324 [00:00<?, ?B/s]"
      ],
      "application/vnd.jupyter.widget-view+json": {
       "version_major": 2,
       "version_minor": 0,
       "model_id": "6db418a7b52d48cda6bdda2f1115dfcc"
      }
     },
     "metadata": {}
    },
    {
     "output_type": "display_data",
     "data": {
      "text/plain": [
       "config.json:   0%|          | 0.00/645 [00:00<?, ?B/s]"
      ],
      "application/vnd.jupyter.widget-view+json": {
       "version_major": 2,
       "version_minor": 0,
       "model_id": "0c639d73d9444fa2a9ecc3d8265f1f76"
      }
     },
     "metadata": {}
    },
    {
     "output_type": "display_data",
     "data": {
      "text/plain": [
       "vocab.txt: 0.00B [00:00, ?B/s]"
      ],
      "application/vnd.jupyter.widget-view+json": {
       "version_major": 2,
       "version_minor": 0,
       "model_id": "aee28e3aabd14060b8b12cc1bccd804e"
      }
     },
     "metadata": {}
    },
    {
     "output_type": "display_data",
     "data": {
      "text/plain": [
       "special_tokens_map.json:   0%|          | 0.00/112 [00:00<?, ?B/s]"
      ],
      "application/vnd.jupyter.widget-view+json": {
       "version_major": 2,
       "version_minor": 0,
       "model_id": "75dd465b6b554e0eb06b67b2b905ab40"
      }
     },
     "metadata": {}
    },
    {
     "output_type": "stream",
     "name": "stderr",
     "text": [
      "/usr/local/lib/python3.12/dist-packages/transformers/tokenization_utils_base.py:1601: FutureWarning: `clean_up_tokenization_spaces` was not set. It will be set to `True` by default. This behavior will be depracted in transformers v4.45, and will be then set to `False` by default. For more details check this issue: https://github.com/huggingface/transformers/issues/31884\n",
      "  warnings.warn(\n"
     ]
    },
    {
     "output_type": "display_data",
     "data": {
      "text/plain": [
       "model.safetensors:   0%|          | 0.00/17.6M [00:00<?, ?B/s]"
      ],
      "application/vnd.jupyter.widget-view+json": {
       "version_major": 2,
       "version_minor": 0,
       "model_id": "6301c3042c8d434980817fccec2063de"
      }
     },
     "metadata": {}
    },
    {
     "output_type": "display_data",
     "data": {
      "text/plain": [
       "tokenizer_config.json:   0%|          | 0.00/48.0 [00:00<?, ?B/s]"
      ],
      "application/vnd.jupyter.widget-view+json": {
       "version_major": 2,
       "version_minor": 0,
       "model_id": "1ca685b9b20244c5bb563c390ffd81d7"
      }
     },
     "metadata": {}
    },
    {
     "output_type": "display_data",
     "data": {
      "text/plain": [
       "config.json:   0%|          | 0.00/629 [00:00<?, ?B/s]"
      ],
      "application/vnd.jupyter.widget-view+json": {
       "version_major": 2,
       "version_minor": 0,
       "model_id": "894fe3a05bff4073a12e7697893a67aa"
      }
     },
     "metadata": {}
    },
    {
     "output_type": "display_data",
     "data": {
      "text/plain": [
       "vocab.txt:   0%|          | 0.00/232k [00:00<?, ?B/s]"
      ],
      "application/vnd.jupyter.widget-view+json": {
       "version_major": 2,
       "version_minor": 0,
       "model_id": "8ee70107ed294a7aba113b9a29fc5cda"
      }
     },
     "metadata": {}
    },
    {
     "output_type": "display_data",
     "data": {
      "text/plain": [
       "model.safetensors:   0%|          | 0.00/268M [00:00<?, ?B/s]"
      ],
      "application/vnd.jupyter.widget-view+json": {
       "version_major": 2,
       "version_minor": 0,
       "model_id": "6361ca07456e43ce9e7f347b6b93462d"
      }
     },
     "metadata": {}
    },
    {
     "output_type": "display_data",
     "data": {
      "text/plain": [
       "tokenizer_config.json:   0%|          | 0.00/174 [00:00<?, ?B/s]"
      ],
      "application/vnd.jupyter.widget-view+json": {
       "version_major": 2,
       "version_minor": 0,
       "model_id": "fcb0065a1b834cd2856cd4e4ae66f30f"
      }
     },
     "metadata": {}
    },
    {
     "output_type": "display_data",
     "data": {
      "text/plain": [
       "config.json:   0%|          | 0.00/811 [00:00<?, ?B/s]"
      ],
      "application/vnd.jupyter.widget-view+json": {
       "version_major": 2,
       "version_minor": 0,
       "model_id": "d97ead74bb0e49fcabb030076a895d5f"
      }
     },
     "metadata": {}
    },
    {
     "output_type": "display_data",
     "data": {
      "text/plain": [
       "vocab.txt: 0.00B [00:00, ?B/s]"
      ],
      "application/vnd.jupyter.widget-view+json": {
       "version_major": 2,
       "version_minor": 0,
       "model_id": "53ab0f4ccf8a429da9dc9f094eeb0812"
      }
     },
     "metadata": {}
    },
    {
     "output_type": "display_data",
     "data": {
      "text/plain": [
       "special_tokens_map.json:   0%|          | 0.00/112 [00:00<?, ?B/s]"
      ],
      "application/vnd.jupyter.widget-view+json": {
       "version_major": 2,
       "version_minor": 0,
       "model_id": "3a8890bae2ed4b26a70439a721f42b37"
      }
     },
     "metadata": {}
    },
    {
     "output_type": "display_data",
     "data": {
      "text/plain": [
       "model.safetensors:   0%|          | 0.00/438M [00:00<?, ?B/s]"
      ],
      "application/vnd.jupyter.widget-view+json": {
       "version_major": 2,
       "version_minor": 0,
       "model_id": "b46404cc6c7640488aed2ce7df7fb1d5"
      }
     },
     "metadata": {}
    }
   ]
  },
  {
   "cell_type": "code",
   "source": [
    "def chunk_text(text, tokenizer, max_len=512, stride=256):\n",
    "    tokens = tokenizer(text, truncation=False, return_tensors=\"pt\")[\"input_ids\"][0]\n",
    "    chunks = []\n",
    "    for i in range(0, len(tokens), stride):\n",
    "        chunk = tokens[i:i+max_len]\n",
    "        if len(chunk) < 5:\n",
    "            break\n",
    "        chunks.append(tokenizer.decode(chunk, skip_special_tokens=True))\n",
    "    return chunks\n",
    "\n",
    "def classify_with_chunks(pipe, tokenizer, text, max_len=512):\n",
    "    chunks = chunk_text(text, tokenizer, max_len=max_len)\n",
    "    if not chunks:\n",
    "        return {\"label\": \"EMPTY\", \"score\": 0.0}\n",
    "\n",
    "    preds = pipe(chunks, truncation=True, max_length=max_len)\n",
    "\n",
    "    # aggregate results: just take the label with highest score overall\n",
    "    best_pred = max(preds, key=lambda p: p[\"score\"])\n",
    "    return best_pred\n"
   ],
   "metadata": {
    "id": "K64YRQIsiFyH"
   },
   "execution_count": 21,
   "outputs": []
  },
  {
   "cell_type": "code",
   "source": [
    "from tqdm import tqdm\n",
    "\n",
    "results = []\n",
    "\n",
    "for t in tqdm(df_emails[\"text\"].tolist()[:50]):  # limit for speed\n",
    "    row_res = {}\n",
    "    for name, pipe in pipes.items():\n",
    "        tokenizer = pipe.tokenizer\n",
    "        row_res[name] = classify_with_chunks(pipe, tokenizer, t)\n",
    "    results.append(row_res)\n",
    "\n",
    "# Example: show first few results\n",
    "for i, r in enumerate(results[:3]):\n",
    "    print(f\"\\nEmail {i+1}:\")\n",
    "    for model_name, pred in r.items():\n",
    "        print(f\"  {model_name}: {pred}\")\n"
   ],
   "metadata": {
    "colab": {
     "base_uri": "https://localhost:8080/"
    },
    "id": "_O-XyzcpiSq1",
    "outputId": "4b88d439-6773-4a67-952d-88ca9c4a0fce"
   },
   "execution_count": 22,
   "outputs": [
    {
     "output_type": "stream",
     "name": "stderr",
     "text": [
      "\r  0%|          | 0/50 [00:00<?, ?it/s]Token indices sequence length is longer than the specified maximum sequence length for this model (649 > 512). Running this sequence through the model will result in indexing errors\n",
      "Token indices sequence length is longer than the specified maximum sequence length for this model (649 > 512). Running this sequence through the model will result in indexing errors\n",
      "100%|██████████| 50/50 [03:42<00:00,  4.46s/it]"
     ]
    },
    {
     "output_type": "stream",
     "name": "stdout",
     "text": [
      "\n",
      "Email 1:\n",
      "  phishing: {'label': 'LABEL_1', 'score': 0.8818070888519287}\n",
      "  sentiment: {'label': 'POSITIVE', 'score': 0.9916511178016663}\n",
      "  toxic: {'label': 'toxic', 'score': 0.0008735728333704174}\n",
      "\n",
      "Email 2:\n",
      "  phishing: {'label': 'LABEL_1', 'score': 0.797269344329834}\n",
      "  sentiment: {'label': 'NEGATIVE', 'score': 0.9792758226394653}\n",
      "  toxic: {'label': 'toxic', 'score': 0.0006802224088460207}\n",
      "\n",
      "Email 3:\n",
      "  phishing: {'label': 'LABEL_1', 'score': 0.9032275080680847}\n",
      "  sentiment: {'label': 'NEGATIVE', 'score': 0.994769275188446}\n",
      "  toxic: {'label': 'toxic', 'score': 0.010209739208221436}\n"
     ]
    },
    {
     "output_type": "stream",
     "name": "stderr",
     "text": [
      "\n"
     ]
    }
   ]
  },
  {
   "cell_type": "code",
   "source": [
    "import pandas as pd\n",
    "\n",
    "df_results = pd.DataFrame([\n",
    "    {\n",
    "        \"email\": df_emails[\"text\"].iloc[i],\n",
    "        \"phishing_label\": r[\"phishing\"][\"label\"],\n",
    "        \"phishing_score\": r[\"phishing\"][\"score\"],\n",
    "        \"sentiment_label\": r[\"sentiment\"][\"label\"],\n",
    "        \"sentiment_score\": r[\"sentiment\"][\"score\"],\n",
    "        \"toxic_label\": r[\"toxic\"][\"label\"],\n",
    "        \"toxic_score\": r[\"toxic\"][\"score\"],\n",
    "    }\n",
    "    for i, r in enumerate(results)\n",
    "])\n",
    "\n",
    "df_results.head()\n"
   ],
   "metadata": {
    "colab": {
     "base_uri": "https://localhost:8080/",
     "height": 206
    },
    "id": "HBNb8tobi2w5",
    "outputId": "3aa50a98-ae3b-489e-8aa8-d93c0440bd20"
   },
   "execution_count": 23,
   "outputs": [
    {
     "output_type": "execute_result",
     "data": {
      "text/plain": [
       "                                               email phishing_label  \\\n",
       "0  job posting - apple-iss research center conten...        LABEL_1   \n",
       "1   lang classification grimes , joseph e . and b...        LABEL_1   \n",
       "2  query : letter frequencies for text identifica...        LABEL_1   \n",
       "3  risk a colleague and i are researching the dif...        LABEL_0   \n",
       "4  request book information earlier this morning ...        LABEL_0   \n",
       "\n",
       "   phishing_score sentiment_label  sentiment_score toxic_label  toxic_score  \n",
       "0        0.881807        POSITIVE         0.991651       toxic     0.000874  \n",
       "1        0.797269        NEGATIVE         0.979276       toxic     0.000680  \n",
       "2        0.903228        NEGATIVE         0.994769       toxic     0.010210  \n",
       "3        0.932617        NEGATIVE         0.997117       toxic     0.000557  \n",
       "4        0.936248        NEGATIVE         0.999035       toxic     0.001075  "
      ],
      "text/html": [
       "\n",
       "  <div id=\"df-0e3948e5-2e90-4474-ab81-3f55110b37f2\" class=\"colab-df-container\">\n",
       "    <div>\n",
       "<style scoped>\n",
       "    .dataframe tbody tr th:only-of-type {\n",
       "        vertical-align: middle;\n",
       "    }\n",
       "\n",
       "    .dataframe tbody tr th {\n",
       "        vertical-align: top;\n",
       "    }\n",
       "\n",
       "    .dataframe thead th {\n",
       "        text-align: right;\n",
       "    }\n",
       "</style>\n",
       "<table border=\"1\" class=\"dataframe\">\n",
       "  <thead>\n",
       "    <tr style=\"text-align: right;\">\n",
       "      <th></th>\n",
       "      <th>email</th>\n",
       "      <th>phishing_label</th>\n",
       "      <th>phishing_score</th>\n",
       "      <th>sentiment_label</th>\n",
       "      <th>sentiment_score</th>\n",
       "      <th>toxic_label</th>\n",
       "      <th>toxic_score</th>\n",
       "    </tr>\n",
       "  </thead>\n",
       "  <tbody>\n",
       "    <tr>\n",
       "      <th>0</th>\n",
       "      <td>job posting - apple-iss research center conten...</td>\n",
       "      <td>LABEL_1</td>\n",
       "      <td>0.881807</td>\n",
       "      <td>POSITIVE</td>\n",
       "      <td>0.991651</td>\n",
       "      <td>toxic</td>\n",
       "      <td>0.000874</td>\n",
       "    </tr>\n",
       "    <tr>\n",
       "      <th>1</th>\n",
       "      <td>lang classification grimes , joseph e . and b...</td>\n",
       "      <td>LABEL_1</td>\n",
       "      <td>0.797269</td>\n",
       "      <td>NEGATIVE</td>\n",
       "      <td>0.979276</td>\n",
       "      <td>toxic</td>\n",
       "      <td>0.000680</td>\n",
       "    </tr>\n",
       "    <tr>\n",
       "      <th>2</th>\n",
       "      <td>query : letter frequencies for text identifica...</td>\n",
       "      <td>LABEL_1</td>\n",
       "      <td>0.903228</td>\n",
       "      <td>NEGATIVE</td>\n",
       "      <td>0.994769</td>\n",
       "      <td>toxic</td>\n",
       "      <td>0.010210</td>\n",
       "    </tr>\n",
       "    <tr>\n",
       "      <th>3</th>\n",
       "      <td>risk a colleague and i are researching the dif...</td>\n",
       "      <td>LABEL_0</td>\n",
       "      <td>0.932617</td>\n",
       "      <td>NEGATIVE</td>\n",
       "      <td>0.997117</td>\n",
       "      <td>toxic</td>\n",
       "      <td>0.000557</td>\n",
       "    </tr>\n",
       "    <tr>\n",
       "      <th>4</th>\n",
       "      <td>request book information earlier this morning ...</td>\n",
       "      <td>LABEL_0</td>\n",
       "      <td>0.936248</td>\n",
       "      <td>NEGATIVE</td>\n",
       "      <td>0.999035</td>\n",
       "      <td>toxic</td>\n",
       "      <td>0.001075</td>\n",
       "    </tr>\n",
       "  </tbody>\n",
       "</table>\n",
       "</div>\n",
       "    <div class=\"colab-df-buttons\">\n",
       "\n",
       "  <div class=\"colab-df-container\">\n",
       "    <button class=\"colab-df-convert\" onclick=\"convertToInteractive('df-0e3948e5-2e90-4474-ab81-3f55110b37f2')\"\n",
       "            title=\"Convert this dataframe to an interactive table.\"\n",
       "            style=\"display:none;\">\n",
       "\n",
       "  <svg xmlns=\"http://www.w3.org/2000/svg\" height=\"24px\" viewBox=\"0 -960 960 960\">\n",
       "    <path d=\"M120-120v-720h720v720H120Zm60-500h600v-160H180v160Zm220 220h160v-160H400v160Zm0 220h160v-160H400v160ZM180-400h160v-160H180v160Zm440 0h160v-160H620v160ZM180-180h160v-160H180v160Zm440 0h160v-160H620v160Z\"/>\n",
       "  </svg>\n",
       "    </button>\n",
       "\n",
       "  <style>\n",
       "    .colab-df-container {\n",
       "      display:flex;\n",
       "      gap: 12px;\n",
       "    }\n",
       "\n",
       "    .colab-df-convert {\n",
       "      background-color: #E8F0FE;\n",
       "      border: none;\n",
       "      border-radius: 50%;\n",
       "      cursor: pointer;\n",
       "      display: none;\n",
       "      fill: #1967D2;\n",
       "      height: 32px;\n",
       "      padding: 0 0 0 0;\n",
       "      width: 32px;\n",
       "    }\n",
       "\n",
       "    .colab-df-convert:hover {\n",
       "      background-color: #E2EBFA;\n",
       "      box-shadow: 0px 1px 2px rgba(60, 64, 67, 0.3), 0px 1px 3px 1px rgba(60, 64, 67, 0.15);\n",
       "      fill: #174EA6;\n",
       "    }\n",
       "\n",
       "    .colab-df-buttons div {\n",
       "      margin-bottom: 4px;\n",
       "    }\n",
       "\n",
       "    [theme=dark] .colab-df-convert {\n",
       "      background-color: #3B4455;\n",
       "      fill: #D2E3FC;\n",
       "    }\n",
       "\n",
       "    [theme=dark] .colab-df-convert:hover {\n",
       "      background-color: #434B5C;\n",
       "      box-shadow: 0px 1px 3px 1px rgba(0, 0, 0, 0.15);\n",
       "      filter: drop-shadow(0px 1px 2px rgba(0, 0, 0, 0.3));\n",
       "      fill: #FFFFFF;\n",
       "    }\n",
       "  </style>\n",
       "\n",
       "    <script>\n",
       "      const buttonEl =\n",
       "        document.querySelector('#df-0e3948e5-2e90-4474-ab81-3f55110b37f2 button.colab-df-convert');\n",
       "      buttonEl.style.display =\n",
       "        google.colab.kernel.accessAllowed ? 'block' : 'none';\n",
       "\n",
       "      async function convertToInteractive(key) {\n",
       "        const element = document.querySelector('#df-0e3948e5-2e90-4474-ab81-3f55110b37f2');\n",
       "        const dataTable =\n",
       "          await google.colab.kernel.invokeFunction('convertToInteractive',\n",
       "                                                    [key], {});\n",
       "        if (!dataTable) return;\n",
       "\n",
       "        const docLinkHtml = 'Like what you see? Visit the ' +\n",
       "          '<a target=\"_blank\" href=https://colab.research.google.com/notebooks/data_table.ipynb>data table notebook</a>'\n",
       "          + ' to learn more about interactive tables.';\n",
       "        element.innerHTML = '';\n",
       "        dataTable['output_type'] = 'display_data';\n",
       "        await google.colab.output.renderOutput(dataTable, element);\n",
       "        const docLink = document.createElement('div');\n",
       "        docLink.innerHTML = docLinkHtml;\n",
       "        element.appendChild(docLink);\n",
       "      }\n",
       "    </script>\n",
       "  </div>\n",
       "\n",
       "\n",
       "    <div id=\"df-ae87dbd6-c697-40b7-ad03-e491c5a5e98a\">\n",
       "      <button class=\"colab-df-quickchart\" onclick=\"quickchart('df-ae87dbd6-c697-40b7-ad03-e491c5a5e98a')\"\n",
       "                title=\"Suggest charts\"\n",
       "                style=\"display:none;\">\n",
       "\n",
       "<svg xmlns=\"http://www.w3.org/2000/svg\" height=\"24px\"viewBox=\"0 0 24 24\"\n",
       "     width=\"24px\">\n",
       "    <g>\n",
       "        <path d=\"M19 3H5c-1.1 0-2 .9-2 2v14c0 1.1.9 2 2 2h14c1.1 0 2-.9 2-2V5c0-1.1-.9-2-2-2zM9 17H7v-7h2v7zm4 0h-2V7h2v10zm4 0h-2v-4h2v4z\"/>\n",
       "    </g>\n",
       "</svg>\n",
       "      </button>\n",
       "\n",
       "<style>\n",
       "  .colab-df-quickchart {\n",
       "      --bg-color: #E8F0FE;\n",
       "      --fill-color: #1967D2;\n",
       "      --hover-bg-color: #E2EBFA;\n",
       "      --hover-fill-color: #174EA6;\n",
       "      --disabled-fill-color: #AAA;\n",
       "      --disabled-bg-color: #DDD;\n",
       "  }\n",
       "\n",
       "  [theme=dark] .colab-df-quickchart {\n",
       "      --bg-color: #3B4455;\n",
       "      --fill-color: #D2E3FC;\n",
       "      --hover-bg-color: #434B5C;\n",
       "      --hover-fill-color: #FFFFFF;\n",
       "      --disabled-bg-color: #3B4455;\n",
       "      --disabled-fill-color: #666;\n",
       "  }\n",
       "\n",
       "  .colab-df-quickchart {\n",
       "    background-color: var(--bg-color);\n",
       "    border: none;\n",
       "    border-radius: 50%;\n",
       "    cursor: pointer;\n",
       "    display: none;\n",
       "    fill: var(--fill-color);\n",
       "    height: 32px;\n",
       "    padding: 0;\n",
       "    width: 32px;\n",
       "  }\n",
       "\n",
       "  .colab-df-quickchart:hover {\n",
       "    background-color: var(--hover-bg-color);\n",
       "    box-shadow: 0 1px 2px rgba(60, 64, 67, 0.3), 0 1px 3px 1px rgba(60, 64, 67, 0.15);\n",
       "    fill: var(--button-hover-fill-color);\n",
       "  }\n",
       "\n",
       "  .colab-df-quickchart-complete:disabled,\n",
       "  .colab-df-quickchart-complete:disabled:hover {\n",
       "    background-color: var(--disabled-bg-color);\n",
       "    fill: var(--disabled-fill-color);\n",
       "    box-shadow: none;\n",
       "  }\n",
       "\n",
       "  .colab-df-spinner {\n",
       "    border: 2px solid var(--fill-color);\n",
       "    border-color: transparent;\n",
       "    border-bottom-color: var(--fill-color);\n",
       "    animation:\n",
       "      spin 1s steps(1) infinite;\n",
       "  }\n",
       "\n",
       "  @keyframes spin {\n",
       "    0% {\n",
       "      border-color: transparent;\n",
       "      border-bottom-color: var(--fill-color);\n",
       "      border-left-color: var(--fill-color);\n",
       "    }\n",
       "    20% {\n",
       "      border-color: transparent;\n",
       "      border-left-color: var(--fill-color);\n",
       "      border-top-color: var(--fill-color);\n",
       "    }\n",
       "    30% {\n",
       "      border-color: transparent;\n",
       "      border-left-color: var(--fill-color);\n",
       "      border-top-color: var(--fill-color);\n",
       "      border-right-color: var(--fill-color);\n",
       "    }\n",
       "    40% {\n",
       "      border-color: transparent;\n",
       "      border-right-color: var(--fill-color);\n",
       "      border-top-color: var(--fill-color);\n",
       "    }\n",
       "    60% {\n",
       "      border-color: transparent;\n",
       "      border-right-color: var(--fill-color);\n",
       "    }\n",
       "    80% {\n",
       "      border-color: transparent;\n",
       "      border-right-color: var(--fill-color);\n",
       "      border-bottom-color: var(--fill-color);\n",
       "    }\n",
       "    90% {\n",
       "      border-color: transparent;\n",
       "      border-bottom-color: var(--fill-color);\n",
       "    }\n",
       "  }\n",
       "</style>\n",
       "\n",
       "      <script>\n",
       "        async function quickchart(key) {\n",
       "          const quickchartButtonEl =\n",
       "            document.querySelector('#' + key + ' button');\n",
       "          quickchartButtonEl.disabled = true;  // To prevent multiple clicks.\n",
       "          quickchartButtonEl.classList.add('colab-df-spinner');\n",
       "          try {\n",
       "            const charts = await google.colab.kernel.invokeFunction(\n",
       "                'suggestCharts', [key], {});\n",
       "          } catch (error) {\n",
       "            console.error('Error during call to suggestCharts:', error);\n",
       "          }\n",
       "          quickchartButtonEl.classList.remove('colab-df-spinner');\n",
       "          quickchartButtonEl.classList.add('colab-df-quickchart-complete');\n",
       "        }\n",
       "        (() => {\n",
       "          let quickchartButtonEl =\n",
       "            document.querySelector('#df-ae87dbd6-c697-40b7-ad03-e491c5a5e98a button');\n",
       "          quickchartButtonEl.style.display =\n",
       "            google.colab.kernel.accessAllowed ? 'block' : 'none';\n",
       "        })();\n",
       "      </script>\n",
       "    </div>\n",
       "\n",
       "    </div>\n",
       "  </div>\n"
      ],
      "application/vnd.google.colaboratory.intrinsic+json": {
       "type": "dataframe",
       "variable_name": "df_results",
       "summary": "{\n  \"name\": \"df_results\",\n  \"rows\": 50,\n  \"fields\": [\n    {\n      \"column\": \"email\",\n      \"properties\": {\n        \"dtype\": \"string\",\n        \"num_unique_values\": 50,\n        \"samples\": [\n          \" syntax the antisymmetry of syntax richard s . kayne linguistic inquiry monograph twenty - five the mit press $ 17 . 95 paper , $ 35 . 95 cloth to order : < mitpress-orders @ mit . edu > or 800 . 356 . 0343 or 617 . 625 . 8569 prposes a restrictive theory of word order and phrase structure , where the latter always entirely determines linear order . available for discussion . semantics unaccusativity at the syntax - lexical semantics interface by beth levin and malka rappaport hovav linguistic inquiry monograph twenty - six the mit press $ 19 . 95 paper , $ 39 . 95 cloth to order : < mitpress-orders @ mit . edu > or 800 . 356 . 0343 or 617 . 625 . 8569 builds on theory of lexical semantic representation , and elucidates mapping from lexical semantics to syntax . available for discussion .\",\n          \"job announcement - academia sinica job announcement institute of history and philology , academia sinica the linguistics division of the institute of history and philology , academia sinica invites applications from citizens of the republic of china for research positions with the possibility toward tenure track posts . the area of specialization is open , but preference will be given to those in the following fields : phonology ( and phonetics ) , semantics , chinese dialect sutdies , and chinese minority languages . applicants already holding a ph . d . will be considered for the position of assistant research fellow ( equivalent to an assistant professor ) ; applicants holding an m . a . only will be considered for the positions of research assistant . these are purely research positions and no teaching is required . the minimum salaries for these positions are nt $ 63 , 215 ( about us $ 2 , 431 ) and nt $ 45 , 110 ( about us $ 1 , 735 ) per month respectively , plus bonuses . applicants should send a vitae , transcripts from graduate school , an abstract of the ma thesis or dissertation ( including the title , chapter by chapter summary , methodology , materials , and main conclusions ) , and three letters of recommendation to dr . chiu - yu tseng , head linguistics division institute of history and philology academia sinica taipei 115 , taiwan roc deadline for receipt of these materials is march 31 , 1995 . those applying will be notified of our preliminary decision around the beginning and may , 1995 ; those notified of preliminary acceptance would then be expected to send complete text of the thesis or dissertation by the end of may , 1995 for evaluation . for more information , applicants should write to the address above or send e-mail to hscyt @ ccvax . sinica . edu . tw\\r\\n\",\n          \"call for abstracts call for abstracts the present - day english language discussion group of the mla will sponsor a session at the 1995 mla gathering in chicago titled : linguistic approaches to the study of technical language & discourse if interested , submit a 250 - word abstract to the following address before march 20 . kim sydow campbell ( kcampbel @ afit . af . mil ) 2710 beal road franklin , oh 45433\\r\\n\"\n        ],\n        \"semantic_type\": \"\",\n        \"description\": \"\"\n      }\n    },\n    {\n      \"column\": \"phishing_label\",\n      \"properties\": {\n        \"dtype\": \"category\",\n        \"num_unique_values\": 2,\n        \"samples\": [\n          \"LABEL_0\",\n          \"LABEL_1\"\n        ],\n        \"semantic_type\": \"\",\n        \"description\": \"\"\n      }\n    },\n    {\n      \"column\": \"phishing_score\",\n      \"properties\": {\n        \"dtype\": \"number\",\n        \"std\": 0.0985511484079158,\n        \"min\": 0.5455716848373413,\n        \"max\": 0.93682461977005,\n        \"num_unique_values\": 50,\n        \"samples\": [\n          0.877429723739624,\n          0.6509356498718262\n        ],\n        \"semantic_type\": \"\",\n        \"description\": \"\"\n      }\n    },\n    {\n      \"column\": \"sentiment_label\",\n      \"properties\": {\n        \"dtype\": \"category\",\n        \"num_unique_values\": 2,\n        \"samples\": [\n          \"NEGATIVE\",\n          \"POSITIVE\"\n        ],\n        \"semantic_type\": \"\",\n        \"description\": \"\"\n      }\n    },\n    {\n      \"column\": \"sentiment_score\",\n      \"properties\": {\n        \"dtype\": \"number\",\n        \"std\": 0.06115723439847726,\n        \"min\": 0.7319684028625488,\n        \"max\": 0.999679684638977,\n        \"num_unique_values\": 50,\n        \"samples\": [\n          0.9785171151161194,\n          0.9950429201126099\n        ],\n        \"semantic_type\": \"\",\n        \"description\": \"\"\n      }\n    },\n    {\n      \"column\": \"toxic_label\",\n      \"properties\": {\n        \"dtype\": \"category\",\n        \"num_unique_values\": 1,\n        \"samples\": [\n          \"toxic\"\n        ],\n        \"semantic_type\": \"\",\n        \"description\": \"\"\n      }\n    },\n    {\n      \"column\": \"toxic_score\",\n      \"properties\": {\n        \"dtype\": \"number\",\n        \"std\": 0.12621061987805113,\n        \"min\": 0.0005190687952563167,\n        \"max\": 0.8944525718688965,\n        \"num_unique_values\": 50,\n        \"samples\": [\n          0.0006642602966167033\n        ],\n        \"semantic_type\": \"\",\n        \"description\": \"\"\n      }\n    }\n  ]\n}"
      }
     },
     "metadata": {},
     "execution_count": 23
    }
   ]
  },
  {
   "cell_type": "code",
   "source": [
    "from google.colab import drive\n",
    "drive.mount('/content/drive', force_remount=True)\n"
   ],
   "metadata": {
    "colab": {
     "base_uri": "https://localhost:8080/"
    },
    "id": "6ED7ZMvsyfZK",
    "outputId": "b280ce35-e649-4b6b-983d-961a7b6b02e9"
   },
   "execution_count": 24,
   "outputs": [
    {
     "output_type": "stream",
     "name": "stdout",
     "text": [
      "Mounted at /content/drive\n"
     ]
    }
   ]
  },
  {
   "cell_type": "code",
   "source": [
    "import os\n",
    "\n",
    "print(\"Top-level:\", os.listdir(\"/content/drive\"))\n",
    "print(\"MyDrive contents:\", os.listdir(\"/content/drive/MyDrive\")[:10])\n"
   ],
   "metadata": {
    "colab": {
     "base_uri": "https://localhost:8080/"
    },
    "id": "5kPa8hjty5uA",
    "outputId": "3fc3dacd-36b5-4f8a-e21f-ec9f67f0f8fa"
   },
   "execution_count": 25,
   "outputs": [
    {
     "output_type": "stream",
     "name": "stdout",
     "text": [
      "Top-level: ['MyDrive', '.shortcut-targets-by-id', '.Trash-0', '.Encrypted']\n",
      "MyDrive contents: ['Tech M Project Progress', 'Tamanna_Resumes', 'Imagica Pics', 'Japan_Tech_M', 'MUFG SIH', 'Dataset files_MUFG_SIH.gdoc', 'Colab Notebooks', 'processed', 'Requirements and Plan.pdf']\n"
     ]
    }
   ]
  },
  {
   "cell_type": "code",
   "source": [
    "print(\"MUFG SIH contents:\", os.listdir(\"/content/drive/MyDrive/MUFG SIH\"))\n"
   ],
   "metadata": {
    "colab": {
     "base_uri": "https://localhost:8080/"
    },
    "id": "fBLKCJzqy9MZ",
    "outputId": "026c781c-f156-4149-ef42-4c86c0fbe785"
   },
   "execution_count": 26,
   "outputs": [
    {
     "output_type": "stream",
     "name": "stdout",
     "text": [
      "MUFG SIH contents: ['email_phishing_dataset.zip', 'Dataset files_MUFG_SIH.gdoc', 'AgenticAI_approach.svg', 'Deepfake_video.zip', 'MUFG', 'SIH2025_Presentation.pptx.pdf', 'Deepfake_audio.zip', 'phishnet', 'processed', 'processed_audio_mfcc.csv', '02_intake_classification.ipynb', 'processed_video', 'models', 'models_audio', 'logs', 'deepfake_video', 'deepfake_video_subset', 'video_pipeline_visualizations.ipynb', 'audio_visuals_greenIT.ipynb', '01_data_preprocessing .ipynb', '03_text_pipeline_agentic.ipynb']\n"
     ]
    }
   ]
  },
  {
   "cell_type": "code",
   "source": [
    "import os, zipfile\n",
    "\n",
    "DRIVE_DIR = \"/content/drive/MyDrive/MUFG SIH\"\n",
    "ZIP_PATH  = os.path.join(DRIVE_DIR, \"email_phishing_dataset.zip\")\n",
    "OUT_DIR   = \"/content/email_phishing_dataset\"\n",
    "\n",
    "assert os.path.exists(ZIP_PATH), f\"Zip not found at {ZIP_PATH}\"\n",
    "\n",
    "# Fresh extract (idempotent)\n",
    "if os.path.exists(OUT_DIR) and not os.listdir(OUT_DIR):\n",
    "    # exists but empty; keep it\n",
    "    pass\n",
    "elif not os.path.exists(OUT_DIR):\n",
    "    os.makedirs(OUT_DIR, exist_ok=True)\n",
    "\n",
    "# Only extract if folder seems empty\n",
    "if len(os.listdir(OUT_DIR)) == 0:\n",
    "    with zipfile.ZipFile(ZIP_PATH, \"r\") as z:\n",
    "        z.extractall(OUT_DIR)\n",
    "    print(\"✅ Extracted to:\", OUT_DIR)\n",
    "else:\n",
    "    print(\"ℹ️ Skipping extract (already present):\", OUT_DIR)\n",
    "\n",
    "print(\"Top-level inside OUT_DIR:\", os.listdir(OUT_DIR)[:10])\n"
   ],
   "metadata": {
    "colab": {
     "base_uri": "https://localhost:8080/"
    },
    "id": "nntkLF-Tz0AA",
    "outputId": "b98ea060-072c-4d97-e307-f869b23d5261"
   },
   "execution_count": 27,
   "outputs": [
    {
     "output_type": "stream",
     "name": "stdout",
     "text": [
      "ℹ️ Skipping extract (already present): /content/email_phishing_dataset\n",
      "Top-level inside OUT_DIR: ['Ling.csv', 'phishing_email.csv', 'Nigerian_Fraud.csv', 'Enron.csv', 'SpamAssasin.csv', 'Nazario.csv', 'CEAS_08.csv']\n"
     ]
    }
   ]
  },
  {
   "cell_type": "code",
   "source": [
    "import os, pandas as pd\n",
    "\n",
    "base_dir = \"/content/email_phishing_dataset\"  # extracted in Step A\n",
    "\n",
    "# collect all CSVs\n",
    "csv_files = []\n",
    "for root, _, files in os.walk(base_dir):\n",
    "    for f in files:\n",
    "        if f.lower().endswith(\".csv\"):\n",
    "            csv_files.append(os.path.join(root, f))\n",
    "\n",
    "if not csv_files:\n",
    "    raise FileNotFoundError(f\"❌ No CSV files found under {base_dir}\")\n",
    "\n",
    "print(f\"✅ Found {len(csv_files)} CSV files\")\n",
    "for f in csv_files:\n",
    "    print(\" -\", f)\n",
    "\n",
    "dfs = []\n",
    "for f in csv_files:\n",
    "    try:\n",
    "        df_tmp = pd.read_csv(f, encoding=\"utf-8\", on_bad_lines=\"skip\")\n",
    "        df_tmp[\"source_file\"] = os.path.basename(f)\n",
    "\n",
    "        # build a 'text' column if missing\n",
    "        if \"text\" not in df_tmp.columns:\n",
    "            possible = [c for c in df_tmp.columns if c.lower() in [\"subject\",\"body\",\"message\",\"content\",\"email_text\",\"text_\"]]\n",
    "            if possible:\n",
    "                df_tmp[\"text\"] = df_tmp[possible].astype(str).agg(\" \".join, axis=1)\n",
    "            else:\n",
    "                # fallback: entire row flattened\n",
    "                df_tmp[\"text\"] = df_tmp.astype(str).agg(\" \".join, axis=1)\n",
    "\n",
    "        dfs.append(df_tmp[[\"source_file\",\"text\"]])\n",
    "    except Exception as e:\n",
    "        print(f\"⚠️ Skipping {f}: {e}\")\n",
    "\n",
    "if not dfs:\n",
    "    raise ValueError(\"❌ No usable CSVs produced a 'text' column.\")\n",
    "\n",
    "df_emails = pd.concat(dfs, ignore_index=True)\n",
    "print(\"📊 Combined rows:\", len(df_emails))\n",
    "df_emails.head()\n"
   ],
   "metadata": {
    "colab": {
     "base_uri": "https://localhost:8080/",
     "height": 367
    },
    "id": "oO1zfEqgz16v",
    "outputId": "99567541-4efe-4b26-9ff7-a9a16f7931cd"
   },
   "execution_count": 28,
   "outputs": [
    {
     "output_type": "stream",
     "name": "stdout",
     "text": [
      "✅ Found 7 CSV files\n",
      " - /content/email_phishing_dataset/Ling.csv\n",
      " - /content/email_phishing_dataset/phishing_email.csv\n",
      " - /content/email_phishing_dataset/Nigerian_Fraud.csv\n",
      " - /content/email_phishing_dataset/Enron.csv\n",
      " - /content/email_phishing_dataset/SpamAssasin.csv\n",
      " - /content/email_phishing_dataset/Nazario.csv\n",
      " - /content/email_phishing_dataset/CEAS_08.csv\n",
      "📊 Combined rows: 164972\n"
     ]
    },
    {
     "output_type": "execute_result",
     "data": {
      "text/plain": [
       "  source_file                                               text\n",
       "0    Ling.csv  job posting - apple-iss research center conten...\n",
       "1    Ling.csv  nan lang classification grimes , joseph e . an...\n",
       "2    Ling.csv  query : letter frequencies for text identifica...\n",
       "3    Ling.csv  risk a colleague and i are researching the dif...\n",
       "4    Ling.csv  request book information earlier this morning ..."
      ],
      "text/html": [
       "\n",
       "  <div id=\"df-a880d5d6-2592-4d4a-be71-d6c3f3163b64\" class=\"colab-df-container\">\n",
       "    <div>\n",
       "<style scoped>\n",
       "    .dataframe tbody tr th:only-of-type {\n",
       "        vertical-align: middle;\n",
       "    }\n",
       "\n",
       "    .dataframe tbody tr th {\n",
       "        vertical-align: top;\n",
       "    }\n",
       "\n",
       "    .dataframe thead th {\n",
       "        text-align: right;\n",
       "    }\n",
       "</style>\n",
       "<table border=\"1\" class=\"dataframe\">\n",
       "  <thead>\n",
       "    <tr style=\"text-align: right;\">\n",
       "      <th></th>\n",
       "      <th>source_file</th>\n",
       "      <th>text</th>\n",
       "    </tr>\n",
       "  </thead>\n",
       "  <tbody>\n",
       "    <tr>\n",
       "      <th>0</th>\n",
       "      <td>Ling.csv</td>\n",
       "      <td>job posting - apple-iss research center conten...</td>\n",
       "    </tr>\n",
       "    <tr>\n",
       "      <th>1</th>\n",
       "      <td>Ling.csv</td>\n",
       "      <td>nan lang classification grimes , joseph e . an...</td>\n",
       "    </tr>\n",
       "    <tr>\n",
       "      <th>2</th>\n",
       "      <td>Ling.csv</td>\n",
       "      <td>query : letter frequencies for text identifica...</td>\n",
       "    </tr>\n",
       "    <tr>\n",
       "      <th>3</th>\n",
       "      <td>Ling.csv</td>\n",
       "      <td>risk a colleague and i are researching the dif...</td>\n",
       "    </tr>\n",
       "    <tr>\n",
       "      <th>4</th>\n",
       "      <td>Ling.csv</td>\n",
       "      <td>request book information earlier this morning ...</td>\n",
       "    </tr>\n",
       "  </tbody>\n",
       "</table>\n",
       "</div>\n",
       "    <div class=\"colab-df-buttons\">\n",
       "\n",
       "  <div class=\"colab-df-container\">\n",
       "    <button class=\"colab-df-convert\" onclick=\"convertToInteractive('df-a880d5d6-2592-4d4a-be71-d6c3f3163b64')\"\n",
       "            title=\"Convert this dataframe to an interactive table.\"\n",
       "            style=\"display:none;\">\n",
       "\n",
       "  <svg xmlns=\"http://www.w3.org/2000/svg\" height=\"24px\" viewBox=\"0 -960 960 960\">\n",
       "    <path d=\"M120-120v-720h720v720H120Zm60-500h600v-160H180v160Zm220 220h160v-160H400v160Zm0 220h160v-160H400v160ZM180-400h160v-160H180v160Zm440 0h160v-160H620v160ZM180-180h160v-160H180v160Zm440 0h160v-160H620v160Z\"/>\n",
       "  </svg>\n",
       "    </button>\n",
       "\n",
       "  <style>\n",
       "    .colab-df-container {\n",
       "      display:flex;\n",
       "      gap: 12px;\n",
       "    }\n",
       "\n",
       "    .colab-df-convert {\n",
       "      background-color: #E8F0FE;\n",
       "      border: none;\n",
       "      border-radius: 50%;\n",
       "      cursor: pointer;\n",
       "      display: none;\n",
       "      fill: #1967D2;\n",
       "      height: 32px;\n",
       "      padding: 0 0 0 0;\n",
       "      width: 32px;\n",
       "    }\n",
       "\n",
       "    .colab-df-convert:hover {\n",
       "      background-color: #E2EBFA;\n",
       "      box-shadow: 0px 1px 2px rgba(60, 64, 67, 0.3), 0px 1px 3px 1px rgba(60, 64, 67, 0.15);\n",
       "      fill: #174EA6;\n",
       "    }\n",
       "\n",
       "    .colab-df-buttons div {\n",
       "      margin-bottom: 4px;\n",
       "    }\n",
       "\n",
       "    [theme=dark] .colab-df-convert {\n",
       "      background-color: #3B4455;\n",
       "      fill: #D2E3FC;\n",
       "    }\n",
       "\n",
       "    [theme=dark] .colab-df-convert:hover {\n",
       "      background-color: #434B5C;\n",
       "      box-shadow: 0px 1px 3px 1px rgba(0, 0, 0, 0.15);\n",
       "      filter: drop-shadow(0px 1px 2px rgba(0, 0, 0, 0.3));\n",
       "      fill: #FFFFFF;\n",
       "    }\n",
       "  </style>\n",
       "\n",
       "    <script>\n",
       "      const buttonEl =\n",
       "        document.querySelector('#df-a880d5d6-2592-4d4a-be71-d6c3f3163b64 button.colab-df-convert');\n",
       "      buttonEl.style.display =\n",
       "        google.colab.kernel.accessAllowed ? 'block' : 'none';\n",
       "\n",
       "      async function convertToInteractive(key) {\n",
       "        const element = document.querySelector('#df-a880d5d6-2592-4d4a-be71-d6c3f3163b64');\n",
       "        const dataTable =\n",
       "          await google.colab.kernel.invokeFunction('convertToInteractive',\n",
       "                                                    [key], {});\n",
       "        if (!dataTable) return;\n",
       "\n",
       "        const docLinkHtml = 'Like what you see? Visit the ' +\n",
       "          '<a target=\"_blank\" href=https://colab.research.google.com/notebooks/data_table.ipynb>data table notebook</a>'\n",
       "          + ' to learn more about interactive tables.';\n",
       "        element.innerHTML = '';\n",
       "        dataTable['output_type'] = 'display_data';\n",
       "        await google.colab.output.renderOutput(dataTable, element);\n",
       "        const docLink = document.createElement('div');\n",
       "        docLink.innerHTML = docLinkHtml;\n",
       "        element.appendChild(docLink);\n",
       "      }\n",
       "    </script>\n",
       "  </div>\n",
       "\n",
       "\n",
       "    <div id=\"df-c493db92-8c9a-404b-9566-a402d3e93b3e\">\n",
       "      <button class=\"colab-df-quickchart\" onclick=\"quickchart('df-c493db92-8c9a-404b-9566-a402d3e93b3e')\"\n",
       "                title=\"Suggest charts\"\n",
       "                style=\"display:none;\">\n",
       "\n",
       "<svg xmlns=\"http://www.w3.org/2000/svg\" height=\"24px\"viewBox=\"0 0 24 24\"\n",
       "     width=\"24px\">\n",
       "    <g>\n",
       "        <path d=\"M19 3H5c-1.1 0-2 .9-2 2v14c0 1.1.9 2 2 2h14c1.1 0 2-.9 2-2V5c0-1.1-.9-2-2-2zM9 17H7v-7h2v7zm4 0h-2V7h2v10zm4 0h-2v-4h2v4z\"/>\n",
       "    </g>\n",
       "</svg>\n",
       "      </button>\n",
       "\n",
       "<style>\n",
       "  .colab-df-quickchart {\n",
       "      --bg-color: #E8F0FE;\n",
       "      --fill-color: #1967D2;\n",
       "      --hover-bg-color: #E2EBFA;\n",
       "      --hover-fill-color: #174EA6;\n",
       "      --disabled-fill-color: #AAA;\n",
       "      --disabled-bg-color: #DDD;\n",
       "  }\n",
       "\n",
       "  [theme=dark] .colab-df-quickchart {\n",
       "      --bg-color: #3B4455;\n",
       "      --fill-color: #D2E3FC;\n",
       "      --hover-bg-color: #434B5C;\n",
       "      --hover-fill-color: #FFFFFF;\n",
       "      --disabled-bg-color: #3B4455;\n",
       "      --disabled-fill-color: #666;\n",
       "  }\n",
       "\n",
       "  .colab-df-quickchart {\n",
       "    background-color: var(--bg-color);\n",
       "    border: none;\n",
       "    border-radius: 50%;\n",
       "    cursor: pointer;\n",
       "    display: none;\n",
       "    fill: var(--fill-color);\n",
       "    height: 32px;\n",
       "    padding: 0;\n",
       "    width: 32px;\n",
       "  }\n",
       "\n",
       "  .colab-df-quickchart:hover {\n",
       "    background-color: var(--hover-bg-color);\n",
       "    box-shadow: 0 1px 2px rgba(60, 64, 67, 0.3), 0 1px 3px 1px rgba(60, 64, 67, 0.15);\n",
       "    fill: var(--button-hover-fill-color);\n",
       "  }\n",
       "\n",
       "  .colab-df-quickchart-complete:disabled,\n",
       "  .colab-df-quickchart-complete:disabled:hover {\n",
       "    background-color: var(--disabled-bg-color);\n",
       "    fill: var(--disabled-fill-color);\n",
       "    box-shadow: none;\n",
       "  }\n",
       "\n",
       "  .colab-df-spinner {\n",
       "    border: 2px solid var(--fill-color);\n",
       "    border-color: transparent;\n",
       "    border-bottom-color: var(--fill-color);\n",
       "    animation:\n",
       "      spin 1s steps(1) infinite;\n",
       "  }\n",
       "\n",
       "  @keyframes spin {\n",
       "    0% {\n",
       "      border-color: transparent;\n",
       "      border-bottom-color: var(--fill-color);\n",
       "      border-left-color: var(--fill-color);\n",
       "    }\n",
       "    20% {\n",
       "      border-color: transparent;\n",
       "      border-left-color: var(--fill-color);\n",
       "      border-top-color: var(--fill-color);\n",
       "    }\n",
       "    30% {\n",
       "      border-color: transparent;\n",
       "      border-left-color: var(--fill-color);\n",
       "      border-top-color: var(--fill-color);\n",
       "      border-right-color: var(--fill-color);\n",
       "    }\n",
       "    40% {\n",
       "      border-color: transparent;\n",
       "      border-right-color: var(--fill-color);\n",
       "      border-top-color: var(--fill-color);\n",
       "    }\n",
       "    60% {\n",
       "      border-color: transparent;\n",
       "      border-right-color: var(--fill-color);\n",
       "    }\n",
       "    80% {\n",
       "      border-color: transparent;\n",
       "      border-right-color: var(--fill-color);\n",
       "      border-bottom-color: var(--fill-color);\n",
       "    }\n",
       "    90% {\n",
       "      border-color: transparent;\n",
       "      border-bottom-color: var(--fill-color);\n",
       "    }\n",
       "  }\n",
       "</style>\n",
       "\n",
       "      <script>\n",
       "        async function quickchart(key) {\n",
       "          const quickchartButtonEl =\n",
       "            document.querySelector('#' + key + ' button');\n",
       "          quickchartButtonEl.disabled = true;  // To prevent multiple clicks.\n",
       "          quickchartButtonEl.classList.add('colab-df-spinner');\n",
       "          try {\n",
       "            const charts = await google.colab.kernel.invokeFunction(\n",
       "                'suggestCharts', [key], {});\n",
       "          } catch (error) {\n",
       "            console.error('Error during call to suggestCharts:', error);\n",
       "          }\n",
       "          quickchartButtonEl.classList.remove('colab-df-spinner');\n",
       "          quickchartButtonEl.classList.add('colab-df-quickchart-complete');\n",
       "        }\n",
       "        (() => {\n",
       "          let quickchartButtonEl =\n",
       "            document.querySelector('#df-c493db92-8c9a-404b-9566-a402d3e93b3e button');\n",
       "          quickchartButtonEl.style.display =\n",
       "            google.colab.kernel.accessAllowed ? 'block' : 'none';\n",
       "        })();\n",
       "      </script>\n",
       "    </div>\n",
       "\n",
       "    </div>\n",
       "  </div>\n"
      ],
      "application/vnd.google.colaboratory.intrinsic+json": {
       "type": "dataframe",
       "variable_name": "df_emails"
      }
     },
     "metadata": {},
     "execution_count": 28
    }
   ]
  },
  {
   "cell_type": "markdown",
   "source": [
    "# **Preventation_text**"
   ],
   "metadata": {
    "id": "fkkc6mYU0n14"
   }
  },
  {
   "cell_type": "code",
   "source": [
    "# ===== A1. Robust model label mapping =====\n",
    "from transformers import AutoTokenizer, AutoModelForSequenceClassification, pipeline\n",
    "\n",
    "PHISH_MODEL = \"mrm8488/bert-tiny-finetuned-sms-spam-detection\"\n",
    "tok = AutoTokenizer.from_pretrained(PHISH_MODEL)\n",
    "mdl = AutoModelForSequenceClassification.from_pretrained(PHISH_MODEL)\n",
    "phish_pipe = pipeline(\"text-classification\", model=mdl, tokenizer=tok, device=-1)\n",
    "\n",
    "# Inspect labels so we don't hardcode \"LABEL_0/1\"\n",
    "id2label = mdl.config.id2label\n",
    "label2id = {v:k for k,v in id2label.items()}\n",
    "print(\"id2label:\", id2label)\n",
    "\n",
    "# Define which label corresponds to phishing/spam\n",
    "# Heuristic: if any label contains 'spam' or 'phish' treat that as positive class\n",
    "pos_labels = {k for k,v in id2label.items() if (\"spam\" in v.lower()) or (\"phish\" in v.lower()) or (v.upper()==\"LABEL_1\")}\n",
    "print(\"Positive labels:\", pos_labels)\n",
    "\n",
    "def phish_prob(text):\n",
    "    out = phish_pipe(str(text)[:512])[0]\n",
    "    # Convert to probability of phishing/spam regardless of label naming\n",
    "    if out[\"label\"] in pos_labels:\n",
    "        return float(out[\"score\"])\n",
    "    else:\n",
    "        return float(1.0 - out[\"score\"])\n"
   ],
   "metadata": {
    "colab": {
     "base_uri": "https://localhost:8080/"
    },
    "id": "8QZOfjbf0nCC",
    "outputId": "c5425cbc-8870-4204-cdd6-8b473318937d"
   },
   "execution_count": 29,
   "outputs": [
    {
     "output_type": "stream",
     "name": "stdout",
     "text": [
      "id2label: {0: 'LABEL_0', 1: 'LABEL_1'}\n",
      "Positive labels: {1}\n"
     ]
    },
    {
     "output_type": "stream",
     "name": "stderr",
     "text": [
      "/usr/local/lib/python3.12/dist-packages/transformers/tokenization_utils_base.py:1601: FutureWarning: `clean_up_tokenization_spaces` was not set. It will be set to `True` by default. This behavior will be depracted in transformers v4.45, and will be then set to `False` by default. For more details check this issue: https://github.com/huggingface/transformers/issues/31884\n",
      "  warnings.warn(\n"
     ]
    }
   ]
  },
  {
   "cell_type": "code",
   "source": [
    "!pip install tldextract urlextract\n"
   ],
   "metadata": {
    "colab": {
     "base_uri": "https://localhost:8080/"
    },
    "id": "opIzCkfh1H8l",
    "outputId": "67843607-584e-4d87-fe26-d140ade65d55"
   },
   "execution_count": 30,
   "outputs": [
    {
     "output_type": "stream",
     "name": "stdout",
     "text": [
      "Requirement already satisfied: tldextract in /usr/local/lib/python3.12/dist-packages (5.3.0)\n",
      "Requirement already satisfied: urlextract in /usr/local/lib/python3.12/dist-packages (1.9.0)\n",
      "Requirement already satisfied: idna in /usr/local/lib/python3.12/dist-packages (from tldextract) (3.10)\n",
      "Requirement already satisfied: requests>=2.1.0 in /usr/local/lib/python3.12/dist-packages (from tldextract) (2.32.4)\n",
      "Requirement already satisfied: requests-file>=1.4 in /usr/local/lib/python3.12/dist-packages (from tldextract) (2.1.0)\n",
      "Requirement already satisfied: filelock>=3.0.8 in /usr/local/lib/python3.12/dist-packages (from tldextract) (3.19.1)\n",
      "Requirement already satisfied: uritools in /usr/local/lib/python3.12/dist-packages (from urlextract) (5.0.0)\n",
      "Requirement already satisfied: platformdirs in /usr/local/lib/python3.12/dist-packages (from urlextract) (4.4.0)\n",
      "Requirement already satisfied: charset_normalizer<4,>=2 in /usr/local/lib/python3.12/dist-packages (from requests>=2.1.0->tldextract) (3.4.3)\n",
      "Requirement already satisfied: urllib3<3,>=1.21.1 in /usr/local/lib/python3.12/dist-packages (from requests>=2.1.0->tldextract) (2.5.0)\n",
      "Requirement already satisfied: certifi>=2017.4.17 in /usr/local/lib/python3.12/dist-packages (from requests>=2.1.0->tldextract) (2025.8.3)\n"
     ]
    }
   ]
  },
  {
   "cell_type": "code",
   "source": [
    "# ===== A2. Innate heuristics + immune memory =====\n",
    "import re, json, os, tldextract\n",
    "from urlextract import URLExtract\n",
    "\n",
    "EXTRACTOR = URLExtract()\n",
    "SHORTENERS = (\"bit.ly\",\"tinyurl.com\",\"t.co\",\"goo.gl\",\"ow.ly\",\"is.gd\",\"buff.ly\",\"rb.gy\",\"rebrand.ly\")\n",
    "SUSP_TLDS  = (\"zip\",\"mov\",\"xyz\",\"top\",\"club\",\"quest\",\"gq\",\"tk\",\"cf\",\"ml\")\n",
    "URGENCY    = (\"urgent\",\"immediately\",\"verify\",\"suspended\",\"locked\",\"reset\",\"otp\",\n",
    "              \"wire transfer\",\"invoice\",\"payment due\",\"click here\")\n",
    "\n",
    "MEM_PATH = \"/content/drive/MyDrive/processed/antibody_memory.json\"\n",
    "if os.path.exists(MEM_PATH):\n",
    "    memory = json.load(open(MEM_PATH))\n",
    "else:\n",
    "    memory = {\"bad_domains\": [], \"bad_phrases\": []}\n",
    "\n",
    "def safe_domain(url):\n",
    "    try:\n",
    "        ext = tldextract.extract(url)\n",
    "        dom = \".\".join([p for p in [ext.domain, ext.suffix] if p])\n",
    "        return dom.lower()\n",
    "    except Exception:\n",
    "        return \"\"\n",
    "\n",
    "def innate_score(text: str) -> dict:\n",
    "    lower = (text or \"\").lower()\n",
    "    urls  = EXTRACTOR.find_urls(text or \"\")\n",
    "    doms  = [safe_domain(u) for u in urls if u]\n",
    "    urg   = sum(kw in lower for kw in URGENCY)\n",
    "    short = sum(any(s in (d or \"\") for s in SHORTENERS) for d in doms)\n",
    "    tlds  = sum((d.split(\".\")[-1] in SUSP_TLDS) for d in doms if \".\" in d)\n",
    "    mem_d = sum(d in set(memory[\"bad_domains\"]) for d in doms)\n",
    "    mem_p = sum(phrase in lower for phrase in memory.get(\"bad_phrases\", []))\n",
    "    # bounded additive score\n",
    "    score = min(1.0, urg*0.08 + short*0.15 + tlds*0.12 + mem_d*0.25 + mem_p*0.20 + len(urls)*0.03)\n",
    "    return {\"score\": round(score,3), \"urls\": urls, \"domains\": doms, \"urg\": urg,\n",
    "            \"short\": short, \"tlds\": tlds, \"mem_domain_hits\": mem_d, \"mem_phrase_hits\": mem_p}\n",
    "\n",
    "def update_memory_from_quarantine(record):\n",
    "    # add domains/phrases seen in high-confidence phishing\n",
    "    for d in record.get(\"domains\", []):\n",
    "        if d and d not in memory[\"bad_domains\"]:\n",
    "            memory[\"bad_domains\"].append(d)\n",
    "    # add a couple of short phrases (super conservative)\n",
    "    text = (record.get(\"text\") or \"\")[:2000].lower()\n",
    "    for kw in (\"verify your account\",\"reset your password\",\"update payment\",\"wire transfer\"):\n",
    "        if kw in text and kw not in memory[\"bad_phrases\"]:\n",
    "            memory[\"bad_phrases\"].append(kw)\n",
    "\n",
    "def save_memory():\n",
    "    os.makedirs(os.path.dirname(MEM_PATH), exist_ok=True)\n",
    "    json.dump(memory, open(MEM_PATH, \"w\"), indent=2)\n"
   ],
   "metadata": {
    "id": "qTAdshJX0vAQ"
   },
   "execution_count": 31,
   "outputs": []
  },
  {
   "cell_type": "code",
   "source": [
    "import os, pandas as pd\n",
    "\n",
    "# Path to your extracted dataset (you already extracted earlier)\n",
    "TEXT_DIR = \"/content/email_phishing_dataset\"\n",
    "\n",
    "dfs = []\n",
    "for fname in os.listdir(TEXT_DIR):\n",
    "    if fname.endswith(\".csv\"):\n",
    "        fpath = os.path.join(TEXT_DIR, fname)\n",
    "        try:\n",
    "            df = pd.read_csv(fpath, encoding=\"utf-8\", on_bad_lines=\"skip\")\n",
    "            df[\"source_file\"] = fname\n",
    "            dfs.append(df)\n",
    "        except Exception as e:\n",
    "            print(f\"⚠️ Skipping {fname}: {e}\")\n",
    "\n",
    "# Merge all into one df\n",
    "if dfs:\n",
    "    df_emails = pd.concat(dfs, ignore_index=True)\n",
    "    print(\"✅ Reloaded dataset with\", len(df_emails), \"rows\")\n",
    "    print(\"Columns:\", df_emails.columns.tolist())\n",
    "else:\n",
    "    raise ValueError(\"❌ No CSVs loaded, check your path/dataset\")\n"
   ],
   "metadata": {
    "colab": {
     "base_uri": "https://localhost:8080/"
    },
    "id": "ZBFPFDtL1YWD",
    "outputId": "34fe6acd-0d21-4320-8ad0-8a3f88553c4a"
   },
   "execution_count": 32,
   "outputs": [
    {
     "output_type": "stream",
     "name": "stdout",
     "text": [
      "✅ Reloaded dataset with 164972 rows\n",
      "Columns: ['subject', 'body', 'label', 'source_file', 'text_combined', 'sender', 'receiver', 'date', 'urls']\n"
     ]
    }
   ]
  },
  {
   "cell_type": "code",
   "source": [
    "# Merge subject + body into a single 'text' column\n",
    "if \"subject\" in df_emails.columns and \"body\" in df_emails.columns:\n",
    "    df_emails[\"text\"] = (\n",
    "        df_emails[\"subject\"].fillna(\"\") + \" \" + df_emails[\"body\"].fillna(\"\")\n",
    "    )\n",
    "elif \"body\" in df_emails.columns:\n",
    "    df_emails[\"text\"] = df_emails[\"body\"].fillna(\"\")\n",
    "elif \"text_combined\" in df_emails.columns:\n",
    "    df_emails[\"text\"] = df_emails[\"text_combined\"].fillna(\"\")\n",
    "else:\n",
    "    raise ValueError(\"No suitable text column found!\")\n",
    "\n",
    "print(\"✅ Added 'text' column\")\n",
    "print(df_emails[[\"subject\",\"body\",\"text\"]].head())\n"
   ],
   "metadata": {
    "colab": {
     "base_uri": "https://localhost:8080/"
    },
    "id": "SKaGh_XD2Vej",
    "outputId": "73ab724a-09cf-4a07-a2d5-2967b2bf943b"
   },
   "execution_count": 33,
   "outputs": [
    {
     "output_type": "stream",
     "name": "stdout",
     "text": [
      "✅ Added 'text' column\n",
      "                                             subject  \\\n",
      "0            job posting - apple-iss research center   \n",
      "1                                                NaN   \n",
      "2  query : letter frequencies for text identifica...   \n",
      "3                                               risk   \n",
      "4                           request book information   \n",
      "\n",
      "                                                body  \\\n",
      "0  content - length : 3386 apple-iss research cen...   \n",
      "1  lang classification grimes , joseph e . and ba...   \n",
      "2  i am posting this inquiry for sergei atamas ( ...   \n",
      "3  a colleague and i are researching the differin...   \n",
      "4  earlier this morning i was on the phone with a...   \n",
      "\n",
      "                                                text  \n",
      "0  job posting - apple-iss research center conten...  \n",
      "1   lang classification grimes , joseph e . and b...  \n",
      "2  query : letter frequencies for text identifica...  \n",
      "3  risk a colleague and i are researching the dif...  \n",
      "4  request book information earlier this morning ...  \n"
     ]
    }
   ]
  },
  {
   "cell_type": "code",
   "source": [
    "from transformers import AutoTokenizer, AutoModelForSequenceClassification, pipeline\n",
    "\n",
    "MODEL_NAME = \"mrm8488/bert-tiny-finetuned-sms-spam-detection\"  # lightweight spam/phish model\n",
    "tokenizer = AutoTokenizer.from_pretrained(MODEL_NAME)\n",
    "model     = AutoModelForSequenceClassification.from_pretrained(MODEL_NAME)\n",
    "phish_clf = pipeline(\"text-classification\", model=model, tokenizer=tokenizer, device=-1)\n",
    "\n",
    "print(\"✅ phish_clf ready\")\n"
   ],
   "metadata": {
    "colab": {
     "base_uri": "https://localhost:8080/"
    },
    "id": "pZWsFtxQ2-wM",
    "outputId": "9debada5-837e-4a2a-df7e-01f7b60bd17c"
   },
   "execution_count": 39,
   "outputs": [
    {
     "output_type": "stream",
     "name": "stdout",
     "text": [
      "✅ phish_clf ready\n"
     ]
    },
    {
     "output_type": "stream",
     "name": "stderr",
     "text": [
      "/usr/local/lib/python3.12/dist-packages/transformers/tokenization_utils_base.py:1601: FutureWarning: `clean_up_tokenization_spaces` was not set. It will be set to `True` by default. This behavior will be depracted in transformers v4.45, and will be then set to `False` by default. For more details check this issue: https://github.com/huggingface/transformers/issues/31884\n",
      "  warnings.warn(\n"
     ]
    }
   ]
  },
  {
   "cell_type": "code",
   "source": [
    "# ====== Define orchestrate_email (immune-style pipeline) ======\n",
    "def orchestrate_email(text, lo=0.5, hi=0.7):\n",
    "    \"\"\"\n",
    "    Agentic immune-style pipeline for phishing detection.\n",
    "    Returns: (stage, prob, details)\n",
    "    \"\"\"\n",
    "    # 1. Innate layer: heuristics\n",
    "    ctx = context_risk(text)\n",
    "    wm  = watermarkish(text)\n",
    "    heuristic_score = ctx[\"score\"] * 0.6 + wm[\"watermark_like_score\"] * 0.4\n",
    "\n",
    "    # 2. Lightweight classifier (tiny BERT spam detector)\n",
    "    raw = phish_clf(text[:512])[0]\n",
    "    raw_label = raw[\"label\"].lower()\n",
    "    raw_conf  = raw[\"score\"]\n",
    "    is_phish  = (raw_label in (\"spam\",\"phishing\",\"label_1\"))\n",
    "\n",
    "    # combine raw + heuristics\n",
    "    prob = (raw_conf if is_phish else 1 - raw_conf)\n",
    "    prob = 0.7 * prob + 0.3 * heuristic_score\n",
    "\n",
    "    # 3. Reflection (if ambiguous)\n",
    "    stage = \"innate\"\n",
    "    if lo <= prob < hi:\n",
    "        # ambiguous → escalate\n",
    "        stage = \"adaptive\"\n",
    "        # (you can plug in a heavier model here, e.g., DeBERTa, for now reuse same clf)\n",
    "        raw2 = phish_clf(text[:512])[0]\n",
    "        conf2 = raw2[\"score\"]\n",
    "        is_phish2 = (raw2[\"label\"].lower() in (\"spam\",\"phishing\",\"label_1\"))\n",
    "        prob2 = (conf2 if is_phish2 else 1 - conf2)\n",
    "        # average with old prob\n",
    "        prob = (prob + prob2) / 2\n",
    "\n",
    "    return stage, prob, {\"heuristics\": heuristic_score, \"raw\": raw_conf}\n"
   ],
   "metadata": {
    "id": "wGWkyzm51Ntm"
   },
   "execution_count": 34,
   "outputs": []
  },
  {
   "cell_type": "code",
   "source": [
    "import re, regex as re2\n",
    "import tldextract\n",
    "from urlextract import URLExtract\n",
    "\n",
    "EXTRACTOR = URLExtract()\n",
    "SHORTENERS = (\"bit.ly\",\"tinyurl.com\",\"t.co\",\"goo.gl\",\"ow.ly\",\"is.gd\",\"buff.ly\",\"rb.gy\",\"rebrand.ly\")\n",
    "SUSPICIOUS_TLDS = (\"zip\",\"mov\",\"xyz\",\"top\",\"club\",\"quest\",\"gq\",\"tk\",\"cf\",\"ml\")\n",
    "BRANDS = (\"paypal\",\"apple\",\"microsoft\",\"amazon\",\"bank\",\"google\",\"mufg\",\"icici\",\"hdfc\",\"sbi\")\n",
    "URGENCY = (\"urgent\",\"immediately\",\"verify\",\"suspended\",\"locked\",\"reset\",\"otp\",\n",
    "           \"wire transfer\",\"invoice\",\"payment due\",\"click here\")\n",
    "\n",
    "INVISIBLE = r\"[\\u200B-\\u200F\\u2060\\uFEFF]\"\n",
    "MIXED_SCRIPTS = r\"[\\p{Greek}\\p{Cyrillic}\\p{Arabic}\\p{Devanagari}]\"\n",
    "\n",
    "def safe_domain(url: str) -> str:\n",
    "    try:\n",
    "        ext = tldextract.extract(url)\n",
    "        dom = \".\".join([p for p in [ext.domain, ext.suffix] if p])\n",
    "        return dom.lower()\n",
    "    except Exception:\n",
    "        return \"\"\n",
    "\n",
    "def context_risk(text: str) -> dict:\n",
    "    lower = text.lower()\n",
    "    urls  = EXTRACTOR.find_urls(text)\n",
    "    domains = [safe_domain(u) for u in urls if u]\n",
    "\n",
    "    urgent_hits = sum(kw in lower for kw in URGENCY)\n",
    "    short_hits  = sum(any(s in (d or \"\") for s in SHORTENERS) for d in domains)\n",
    "    tld_hits    = sum(d.split(\".\")[-1] in SUSPICIOUS_TLDS for d in domains if \".\" in d)\n",
    "    brand_sus   = 0\n",
    "    for d in domains:\n",
    "        has_brand = any(b in d for b in BRANDS)\n",
    "        if has_brand and not any(d.endswith(core) for core in [f\"{b}.com\" for b in BRANDS]):\n",
    "            brand_sus += 1\n",
    "\n",
    "    score = 0.0\n",
    "    score += min(0.35, urgent_hits * 0.08)\n",
    "    score += min(0.30, short_hits * 0.15)\n",
    "    score += min(0.25, tld_hits * 0.12)\n",
    "    score += min(0.30, brand_sus * 0.15)\n",
    "    score += min(0.30, len(urls) * 0.03)\n",
    "    score = max(0.0, min(1.0, score))\n",
    "\n",
    "    return {\n",
    "        \"score\": round(score, 3),\n",
    "        \"url_count\": len(urls),\n",
    "        \"shorteners\": short_hits,\n",
    "        \"suspicious_tlds\": tld_hits,\n",
    "        \"brand_spoof_signals\": brand_sus,\n",
    "        \"urgent_hits\": urgent_hits,\n",
    "        \"sample_domains\": domains[:6],\n",
    "    }\n",
    "\n",
    "def watermarkish(text: str) -> dict:\n",
    "    inv   = bool(re2.search(INVISIBLE, text))\n",
    "    nonas = bool(re.search(r\"[^\\x00-\\x7F]\", text))\n",
    "    mixed = bool(re2.search(MIXED_SCRIPTS, text))\n",
    "    many_excls = bool(re.search(r\"!{2,}\", text))\n",
    "    caps_ratio = (sum(1 for c in text if c.isupper()) / max(1, len(text)))\n",
    "\n",
    "    wm_score = 0.0\n",
    "    wm_score += 0.4 if inv else 0.0\n",
    "    wm_score += 0.2 if mixed else 0.0\n",
    "    wm_score += 0.1 if nonas else 0.0\n",
    "    wm_score += 0.1 if many_excls else 0.0\n",
    "    wm_score += 0.2 if caps_ratio > 0.15 else 0.0\n",
    "\n",
    "    return {\n",
    "        \"invisible_unicode\": inv,\n",
    "        \"mixed_scripts\": mixed,\n",
    "        \"non_ascii\": nonas,\n",
    "        \"many_exclamations\": many_excls,\n",
    "        \"uppercase_ratio\": round(caps_ratio,4),\n",
    "        \"watermark_like_score\": round(min(1.0, wm_score),3),\n",
    "    }\n"
   ],
   "metadata": {
    "id": "rg5T98SP2vEl"
   },
   "execution_count": 35,
   "outputs": []
  },
  {
   "cell_type": "code",
   "source": [
    "from tqdm import tqdm\n",
    "\n",
    "preds, probs, stages = [], [], []\n",
    "for txt in tqdm(df_eval[\"text\"].astype(str).tolist()):\n",
    "    stage, p, _ = orchestrate_email(txt)\n",
    "    preds.append(1 if p >= 0.5 else 0)\n",
    "    probs.append(p)\n",
    "    stages.append(stage)\n",
    "\n",
    "# standardize column names\n",
    "df_eval[\"y_pred\"] = preds\n",
    "df_eval[\"p\"] = probs\n",
    "df_eval[\"stage\"] = stages\n",
    "\n",
    "print(\"✅ Predictions added\")\n",
    "print(df_eval.head())\n"
   ],
   "metadata": {
    "colab": {
     "base_uri": "https://localhost:8080/"
    },
    "id": "1VMn-YCa2kEp",
    "outputId": "b0195737-a0cd-423e-a81d-77928fab93e8"
   },
   "execution_count": 40,
   "outputs": [
    {
     "output_type": "stream",
     "name": "stderr",
     "text": [
      "100%|██████████| 164972/164972 [23:58<00:00, 114.65it/s]\n"
     ]
    },
    {
     "output_type": "stream",
     "name": "stdout",
     "text": [
      "✅ Predictions added\n",
      "                                                text  label  y  y_pred  \\\n",
      "0  job posting - apple-iss research center conten...      0  0       0   \n",
      "1   lang classification grimes , joseph e . and b...      0  0       1   \n",
      "2  query : letter frequencies for text identifica...      0  0       0   \n",
      "3  risk a colleague and i are researching the dif...      0  0       0   \n",
      "4  request book information earlier this morning ...      0  0       0   \n",
      "\n",
      "          p     stage  \n",
      "0  0.496557    innate  \n",
      "1  0.718729  adaptive  \n",
      "2  0.095860    innate  \n",
      "3  0.046904    innate  \n",
      "4  0.046130    innate  \n"
     ]
    }
   ]
  },
  {
   "cell_type": "code",
   "source": [
    "# STEP 1 — Evaluation (needs df_emails with 'text' and any label column)\n",
    "import pandas as pd\n",
    "from tqdm import tqdm\n",
    "from sklearn.metrics import classification_report, confusion_matrix, roc_auc_score, roc_curve\n",
    "import matplotlib.pyplot as plt\n",
    "import numpy as np\n",
    "\n",
    "# Build df_eval (normalize labels to 0/1)\n",
    "lab_cols = [c for c in df_emails.columns if c.lower() in (\"label\",\"labels\",\"target\",\"is_spam\",\"is_phishing\")]\n",
    "assert lab_cols, \"No label column found in df_emails\"\n",
    "lab_col = lab_cols[0]\n",
    "\n",
    "def to01(v):\n",
    "    try:\n",
    "        return int(float(v) >= 0.5)\n",
    "    except:\n",
    "        return 1 if str(v).strip().lower() in (\"spam\",\"phish\",\"phishing\",\"1\",\"true\") else 0\n",
    "\n",
    "df_eval = df_emails.loc[df_emails[lab_col].notna(), [\"text\", lab_col]].copy()\n",
    "df_eval[\"y\"] = df_eval[lab_col].apply(to01).astype(int)\n",
    "\n",
    "# Score with your orchestrator\n",
    "preds, probs, stages = [], [], []\n",
    "for txt in tqdm(df_eval[\"text\"].astype(str).tolist()):\n",
    "    stage, p, _ = orchestrate_email(txt)\n",
    "    preds.append(1 if p >= 0.5 else 0)\n",
    "    probs.append(p)\n",
    "    stages.append(stage)\n",
    "\n",
    "df_eval[\"y_pred\"] = preds\n",
    "df_eval[\"p\"] = probs\n",
    "df_eval[\"stage\"] = stages\n",
    "\n",
    "print(classification_report(df_eval[\"y\"], df_eval[\"y_pred\"], target_names=[\"legit\",\"phish\"]))\n",
    "cm = confusion_matrix(df_eval[\"y\"], df_eval[\"y_pred\"])\n",
    "print(\"Confusion matrix:\\n\", cm)\n",
    "try:\n",
    "    print(\"ROC-AUC:\", roc_auc_score(df_eval[\"y\"], df_eval[\"p\"]))\n",
    "except:\n",
    "    pass\n",
    "\n",
    "# ROC curve\n",
    "fpr, tpr, _ = roc_curve(df_eval[\"y\"], df_eval[\"p\"])\n",
    "auc_ = roc_auc_score(df_eval[\"y\"], df_eval[\"p\"])\n",
    "plt.figure(figsize=(4.2,3.6))\n",
    "plt.plot(fpr, tpr, label=f\"AUC={auc_:.3f}\")\n",
    "plt.plot([0,1],[0,1],\"--\",lw=1)\n",
    "plt.xlabel(\"FPR\"); plt.ylabel(\"TPR\"); plt.title(\"ROC — Orchestrator\"); plt.legend(); plt.tight_layout(); plt.show()\n"
   ],
   "metadata": {
    "colab": {
     "base_uri": "https://localhost:8080/",
     "height": 617
    },
    "id": "R88N8s0a1An5",
    "outputId": "864a0a81-1aff-4251-cb02-317642ddd27e"
   },
   "execution_count": 42,
   "outputs": [
    {
     "output_type": "stream",
     "name": "stderr",
     "text": [
      "100%|██████████| 164972/164972 [23:28<00:00, 117.09it/s]\n"
     ]
    },
    {
     "output_type": "stream",
     "name": "stdout",
     "text": [
      "              precision    recall  f1-score   support\n",
      "\n",
      "       legit       0.49      0.81      0.61     79190\n",
      "       phish       0.55      0.21      0.31     85782\n",
      "\n",
      "    accuracy                           0.50    164972\n",
      "   macro avg       0.52      0.51      0.46    164972\n",
      "weighted avg       0.52      0.50      0.45    164972\n",
      "\n",
      "Confusion matrix:\n",
      " [[64264 14926]\n",
      " [67465 18317]]\n",
      "ROC-AUC: 0.5110102898324753\n"
     ]
    },
    {
     "output_type": "display_data",
     "data": {
      "text/plain": [
       "<Figure size 420x360 with 1 Axes>"
      ],
      "image/png": "[encoded data removed]"
     },
     "metadata": {}
    }
   ]
  },
  {
   "cell_type": "code",
   "source": [
    "# STEP 2 — Where blocked\n",
    "import matplotlib.pyplot as plt\n",
    "\n",
    "stage_counts = df_eval[\"stage\"].value_counts()\n",
    "plt.figure(figsize=(6,4))\n",
    "stage_counts.plot(kind=\"bar\", color=[\"#f39c12\",\"#e74c3c\",\"#2ecc71\",\"#95a5a6\"])\n",
    "plt.title(\"Where did the antibodies block emails?\")\n",
    "plt.xlabel(\"Stage\"); plt.ylabel(\"Count\"); plt.tight_layout(); plt.show()\n",
    "stage_counts\n"
   ],
   "metadata": {
    "colab": {
     "base_uri": "https://localhost:8080/",
     "height": 568
    },
    "id": "hJxP57zrBbaI",
    "outputId": "544a7201-0ecb-4952-9bba-dff153fd941c"
   },
   "execution_count": 43,
   "outputs": [
    {
     "output_type": "display_data",
     "data": {
      "text/plain": [
       "<Figure size 600x400 with 1 Axes>"
      ],
      "image/png": "[encoded data removed]"
     },
     "metadata": {}
    },
    {
     "output_type": "execute_result",
     "data": {
      "text/plain": [
       "stage\n",
       "innate      132058\n",
       "adaptive     32914\n",
       "Name: count, dtype: int64"
      ],
      "text/html": [
       "<div>\n",
       "<style scoped>\n",
       "    .dataframe tbody tr th:only-of-type {\n",
       "        vertical-align: middle;\n",
       "    }\n",
       "\n",
       "    .dataframe tbody tr th {\n",
       "        vertical-align: top;\n",
       "    }\n",
       "\n",
       "    .dataframe thead th {\n",
       "        text-align: right;\n",
       "    }\n",
       "</style>\n",
       "<table border=\"1\" class=\"dataframe\">\n",
       "  <thead>\n",
       "    <tr style=\"text-align: right;\">\n",
       "      <th></th>\n",
       "      <th>count</th>\n",
       "    </tr>\n",
       "    <tr>\n",
       "      <th>stage</th>\n",
       "      <th></th>\n",
       "    </tr>\n",
       "  </thead>\n",
       "  <tbody>\n",
       "    <tr>\n",
       "      <th>innate</th>\n",
       "      <td>132058</td>\n",
       "    </tr>\n",
       "    <tr>\n",
       "      <th>adaptive</th>\n",
       "      <td>32914</td>\n",
       "    </tr>\n",
       "  </tbody>\n",
       "</table>\n",
       "</div><br><label><b>dtype:</b> int64</label>"
      ]
     },
     "metadata": {},
     "execution_count": 43
    }
   ]
  },
  {
   "cell_type": "code",
   "source": [
    "by_src = df_eval.groupby([\"stage\"]).size()\n",
    "print(by_src)\n"
   ],
   "metadata": {
    "colab": {
     "base_uri": "https://localhost:8080/"
    },
    "id": "SkmULE1dBcch",
    "outputId": "58622f48-5758-4dca-af09-2009a1b47583"
   },
   "execution_count": 44,
   "outputs": [
    {
     "output_type": "stream",
     "name": "stdout",
     "text": [
      "stage\n",
      "adaptive     32914\n",
      "innate      132058\n",
      "dtype: int64\n"
     ]
    }
   ]
  },
  {
   "cell_type": "code",
   "source": [
    "# STEP 3 — Green IT energy & CO₂ (toy but consistent)\n",
    "N = len(df_eval)\n",
    "# assume: light (innate) 0.02 Wh, adaptive 0.25 Wh; grid factor 0.45 kg/kWh\n",
    "wh_light, wh_heavy = 0.02, 0.25\n",
    "ef = 0.45/1000.0\n",
    "\n",
    "# Estimate escalation rate from stages:\n",
    "p_escalate = (df_eval[\"stage\"]==\"adaptive\").mean()\n",
    "\n",
    "energy_all_heavy = N*wh_heavy\n",
    "energy_agentic   = N*((1-p_escalate)*wh_light + p_escalate*wh_heavy)\n",
    "co2_all_heavy = energy_all_heavy*ef\n",
    "co2_agentic   = energy_agentic*ef\n",
    "\n",
    "import matplotlib.pyplot as plt\n",
    "plt.figure(figsize=(6,4))\n",
    "plt.bar([\"All-Heavy\",\"Agentic Routing\"], [co2_all_heavy, co2_agentic], color=[\"#c0392b\",\"#27ae60\"], alpha=0.85)\n",
    "for i,v in enumerate([co2_all_heavy, co2_agentic]):\n",
    "    plt.text(i, v*1.02, f\"{v:.3f} kg CO₂\", ha=\"center\", fontsize=11)\n",
    "plt.ylabel(\"CO₂ (kg) for this evaluated batch\"); plt.title(\"Green-IT impact\"); plt.tight_layout(); plt.show()\n",
    "\n",
    "print(f\"Escalation rate: {p_escalate*100:.1f}%  |  CO₂ saved: {(1 - co2_agentic/co2_all_heavy)*100:.1f}%\")\n"
   ],
   "metadata": {
    "colab": {
     "base_uri": "https://localhost:8080/",
     "height": 425
    },
    "id": "qXHKkc4iBfKx",
    "outputId": "9638511a-8905-422b-a3a5-49409d3d6d6f"
   },
   "execution_count": 45,
   "outputs": [
    {
     "output_type": "display_data",
     "data": {
      "text/plain": [
       "<Figure size 600x400 with 1 Axes>"
      ],
      "image/png": "[encoded data removed]"
     },
     "metadata": {}
    },
    {
     "output_type": "stream",
     "name": "stdout",
     "text": [
      "Escalation rate: 20.0%  |  CO₂ saved: 73.6%\n"
     ]
    }
   ]
  },
  {
   "cell_type": "code",
   "source": [
    "# STEP 4 — Train TF-IDF + Logistic, then vaccinate with hard negatives\n",
    "from sklearn.model_selection import train_test_split\n",
    "from sklearn.feature_extraction.text import TfidfVectorizer\n",
    "from sklearn.linear_model import LogisticRegression\n",
    "from sklearn.metrics import accuracy_score\n",
    "\n",
    "X_train, X_test, y_train, y_test = train_test_split(\n",
    "    df_eval[\"text\"].astype(str), df_eval[\"y\"].values,\n",
    "    test_size=0.2, random_state=42, stratify=df_eval[\"y\"]\n",
    ")\n",
    "\n",
    "tfidf = TfidfVectorizer(max_features=40000, ngram_range=(1,2), min_df=3)\n",
    "Xtr = tfidf.fit_transform(X_train)\n",
    "Xte = tfidf.transform(X_test)\n",
    "\n",
    "lr  = LogisticRegression(max_iter=300, class_weight=\"balanced\")\n",
    "lr.fit(Xtr, y_train)\n",
    "base_acc = accuracy_score(y_test, lr.predict(Xte))\n",
    "print(\"Baseline TFIDF+LR acc:\", round(base_acc,4))\n",
    "\n",
    "# Safe paraphrases (masked, generic)\n",
    "import re, numpy as np\n",
    "SAFE_REPL = [\n",
    "    (\"verify\", \"confirm\"),\n",
    "    (\"reset your password\", \"update your credentials\"),\n",
    "    (\"within 2 hours\", \"as soon as possible\"),\n",
    "    (\"click here\", \"follow this link\"),\n",
    "    (\"account suspended\", \"access restricted\"),\n",
    "]\n",
    "def safe_paraphrases(text, k=5):\n",
    "    outs = {text}\n",
    "    for a,b in SAFE_REPL:\n",
    "        if a in text.lower():\n",
    "            outs.add(re.sub(a, b, text, flags=re.IGNORECASE))\n",
    "    if \",\" in text and len(outs)<k:\n",
    "        outs.add(text.replace(\",\", \" —\"))\n",
    "    return list(outs)[:k]\n",
    "\n",
    "def mine_hard_negatives(texts, labels, topk=1000):\n",
    "    scored = []\n",
    "    for t,y in zip(texts, labels):\n",
    "        cands = safe_paraphrases(t, k=4)\n",
    "        if not cands: continue\n",
    "        Xc = tfidf.transform(cands)\n",
    "        probs = lr.predict_proba(Xc)[:,1]\n",
    "        # phishing (1): pick cand with lowest spam prob (confuses model)\n",
    "        # legit (0):    pick cand with highest spam prob\n",
    "        idx = np.argmin(probs) if y==1 else np.argmax(probs)\n",
    "        hardness = abs(0.5 - probs[idx])\n",
    "        scored.append((hardness, cands[idx], y))\n",
    "    scored.sort(key=lambda x: x[0], reverse=True)\n",
    "    hard = scored[:topk]\n",
    "    X_aug = [t for _,t,_ in hard]\n",
    "    y_aug = [y for *_,y in hard]\n",
    "    return X_aug, y_aug\n",
    "\n",
    "X_aug, y_aug = mine_hard_negatives(X_train.tolist(), y_train.tolist(), topk=1000)\n",
    "print(\"Mined hard variants:\", len(X_aug))\n",
    "\n",
    "# Retrain with vaccine set\n",
    "Xtr2 = tfidf.fit_transform(pd.concat([pd.Series(X_train), pd.Series(X_aug)], ignore_index=True))\n",
    "ytr2 = np.concatenate([y_train, np.array(y_aug)])\n",
    "lr2  = LogisticRegression(max_iter=300, class_weight=\"balanced\")\n",
    "lr2.fit(Xtr2, ytr2)\n",
    "Xte2 = tfidf.transform(X_test)\n",
    "acc2 = accuracy_score(y_test, lr2.predict(Xte2))\n",
    "print(\"After vaccination acc:\", round(acc2,4), \"| Δ:\", round(acc2-base_acc,4))\n"
   ],
   "metadata": {
    "colab": {
     "base_uri": "https://localhost:8080/"
    },
    "id": "CiLOeDpuBiAO",
    "outputId": "8064b3bb-b7fe-4269-f71a-d59b331917e0"
   },
   "execution_count": 46,
   "outputs": [
    {
     "output_type": "stream",
     "name": "stdout",
     "text": [
      "Baseline TFIDF+LR acc: 0.7496\n",
      "Mined hard variants: 1000\n",
      "After vaccination acc: 0.7496 | Δ: 0.0\n"
     ]
    }
   ]
  },
  {
   "cell_type": "code",
   "source": [
    "!pip install urlextract tldextract"
   ],
   "metadata": {
    "colab": {
     "base_uri": "https://localhost:8080/"
    },
    "id": "u3qbwH9QeFxg",
    "outputId": "4875a822-5fa2-487d-d71b-716593629ef0"
   },
   "execution_count": 47,
   "outputs": [
    {
     "output_type": "stream",
     "name": "stdout",
     "text": [
      "Requirement already satisfied: urlextract in /usr/local/lib/python3.12/dist-packages (1.9.0)\n",
      "Requirement already satisfied: tldextract in /usr/local/lib/python3.12/dist-packages (5.3.0)\n",
      "Requirement already satisfied: idna in /usr/local/lib/python3.12/dist-packages (from urlextract) (3.10)\n",
      "Requirement already satisfied: uritools in /usr/local/lib/python3.12/dist-packages (from urlextract) (5.0.0)\n",
      "Requirement already satisfied: platformdirs in /usr/local/lib/python3.12/dist-packages (from urlextract) (4.4.0)\n",
      "Requirement already satisfied: filelock in /usr/local/lib/python3.12/dist-packages (from urlextract) (3.19.1)\n",
      "Requirement already satisfied: requests>=2.1.0 in /usr/local/lib/python3.12/dist-packages (from tldextract) (2.32.4)\n",
      "Requirement already satisfied: requests-file>=1.4 in /usr/local/lib/python3.12/dist-packages (from tldextract) (2.1.0)\n",
      "Requirement already satisfied: charset_normalizer<4,>=2 in /usr/local/lib/python3.12/dist-packages (from requests>=2.1.0->tldextract) (3.4.3)\n",
      "Requirement already satisfied: urllib3<3,>=1.21.1 in /usr/local/lib/python3.12/dist-packages (from requests>=2.1.0->tldextract) (2.5.0)\n",
      "Requirement already satisfied: certifi>=2017.4.17 in /usr/local/lib/python3.12/dist-packages (from requests>=2.1.0->tldextract) (2025.8.3)\n"
     ]
    }
   ]
  },
  {
   "cell_type": "code",
   "source": [
    "import os, pandas as pd\n",
    "\n",
    "base_dir = \"/content/email_phishing_dataset\"  # where you unzipped earlier\n",
    "\n",
    "csv_files = []\n",
    "for root, _, files in os.walk(base_dir):\n",
    "    for f in files:\n",
    "        if f.lower().endswith(\".csv\"):\n",
    "            csv_files.append(os.path.join(root, f))\n",
    "\n",
    "if not csv_files:\n",
    "    raise FileNotFoundError(f\"❌ No CSV files found under {base_dir}\")\n",
    "\n",
    "dfs = []\n",
    "for f in csv_files:\n",
    "    try:\n",
    "        df_tmp = pd.read_csv(f, encoding=\"utf-8\", on_bad_lines=\"skip\")\n",
    "        df_tmp[\"source_file\"] = os.path.basename(f)\n",
    "\n",
    "        # build a 'text' column\n",
    "        if \"text\" not in df_tmp.columns:\n",
    "            possible = [c for c in df_tmp.columns if c.lower() in [\"subject\",\"body\",\"message\",\"content\",\"email_text\",\"text_\"]]\n",
    "            if possible:\n",
    "                df_tmp[\"text\"] = df_tmp[possible].astype(str).agg(\" \".join, axis=1)\n",
    "            else:\n",
    "                df_tmp[\"text\"] = df_tmp.astype(str).agg(\" \".join, axis=1)\n",
    "\n",
    "        dfs.append(df_tmp)\n",
    "    except Exception as e:\n",
    "        print(f\"⚠️ Skipping {f}: {e}\")\n",
    "\n",
    "df_emails = pd.concat(dfs, ignore_index=True)\n",
    "print(\"✅ Reloaded dataset with\", len(df_emails), \"rows\")\n",
    "print(\"Columns:\", df_emails.columns.tolist())\n"
   ],
   "metadata": {
    "colab": {
     "base_uri": "https://localhost:8080/"
    },
    "id": "EbjnaNNXNuHM",
    "outputId": "cba15647-725f-44fb-80ca-cacb4fce9ac2"
   },
   "execution_count": 48,
   "outputs": [
    {
     "output_type": "stream",
     "name": "stdout",
     "text": [
      "✅ Reloaded dataset with 164972 rows\n",
      "Columns: ['subject', 'body', 'label', 'source_file', 'text', 'text_combined', 'sender', 'receiver', 'date', 'urls']\n"
     ]
    }
   ]
  },
  {
   "cell_type": "code",
   "source": [
    "import pandas as pd\n",
    "from tqdm import tqdm\n",
    "\n",
    "# pick the label column if available\n",
    "lab_cols = [c for c in df_emails.columns if c.lower() in (\"label\",\"labels\",\"target\",\"is_spam\",\"is_phishing\")]\n",
    "if lab_cols:\n",
    "    lab_col = lab_cols[0]\n",
    "    df_eval = df_emails.loc[df_emails[lab_col].notna(), [\"text\", lab_col]].copy()\n",
    "    df_eval = df_eval.rename(columns={lab_col: \"y_true\"})\n",
    "else:\n",
    "    raise ValueError(\"No label column found in dataset\")\n",
    "\n",
    "# run orchestrator to get predictions\n",
    "preds, probs, stages = [], [], []\n",
    "for txt in tqdm(df_eval[\"text\"].astype(str).tolist()):\n",
    "    stage, p, _ = orchestrate_email(txt)\n",
    "    preds.append(1 if p >= 0.5 else 0)\n",
    "    probs.append(p)\n",
    "    stages.append(stage)\n",
    "\n",
    "df_eval[\"y_pred\"] = preds\n",
    "df_eval[\"p\"] = probs\n",
    "df_eval[\"stage\"] = stages\n",
    "\n",
    "print(\"✅ df_eval ready:\", df_eval.shape)\n",
    "print(df_eval.head())\n"
   ],
   "metadata": {
    "colab": {
     "base_uri": "https://localhost:8080/"
    },
    "id": "GBdUxnWVt8W4",
    "outputId": "c7598965-71e7-4398-eda1-1d0d9ee30f92"
   },
   "execution_count": 49,
   "outputs": [
    {
     "output_type": "stream",
     "name": "stderr",
     "text": [
      "100%|██████████| 164972/164972 [44:22<00:00, 61.97it/s]\n"
     ]
    },
    {
     "output_type": "stream",
     "name": "stdout",
     "text": [
      "✅ df_eval ready: (164972, 5)\n",
      "                                                text  y_true  y_pred  \\\n",
      "0  job posting - apple-iss research center conten...       0       0   \n",
      "1  nan lang classification grimes , joseph e . an...       0       1   \n",
      "2  query : letter frequencies for text identifica...       0       0   \n",
      "3  risk a colleague and i are researching the dif...       0       0   \n",
      "4  request book information earlier this morning ...       0       0   \n",
      "\n",
      "          p     stage  \n",
      "0  0.496557    innate  \n",
      "1  0.717754  adaptive  \n",
      "2  0.095860    innate  \n",
      "3  0.046904    innate  \n",
      "4  0.046130    innate  \n"
     ]
    }
   ]
  },
  {
   "cell_type": "code",
   "source": [
    "# Save evaluated predictions and stage attribution\n",
    "out_eval = \"/content/drive/MyDrive/processed/phishing_eval_orchestrator.csv\"\n",
    "df_eval.to_csv(out_eval, index=False)\n",
    "print(\"Saved:\", out_eval)\n"
   ],
   "metadata": {
    "colab": {
     "base_uri": "https://localhost:8080/"
    },
    "id": "kCfy0V5Fd2IL",
    "outputId": "4984f42a-1dad-4d3e-a7b3-ad31b064dde2"
   },
   "execution_count": 50,
   "outputs": [
    {
     "output_type": "stream",
     "name": "stdout",
     "text": [
      "Saved: /content/drive/MyDrive/processed/phishing_eval_orchestrator.csv\n"
     ]
    }
   ]
  },
  {
   "cell_type": "code",
   "source": [
    "# === Quarantine simulation ===\n",
    "\n",
    "QUARANTINE = []\n",
    "\n",
    "def quarantine_emails(df_eval, threshold=0.8):\n",
    "    global QUARANTINE\n",
    "    high_conf = df_eval[df_eval[\"p\"] >= threshold]\n",
    "    for _, row in high_conf.iterrows():\n",
    "        record = {\n",
    "            \"text\": row[\"text\"],\n",
    "            \"prob\": row[\"p\"],\n",
    "            \"stage\": row[\"stage\"],\n",
    "            \"domains\": context_risk(row[\"text\"])[\"sample_domains\"]\n",
    "        }\n",
    "        QUARANTINE.append(record)\n",
    "        update_memory_from_quarantine(record)  # learn bad domains/phrases\n",
    "\n",
    "    save_memory()\n",
    "    return pd.DataFrame(QUARANTINE)\n",
    "\n",
    "df_quarantine = quarantine_emails(df_eval, threshold=0.8)\n",
    "print(\"🚨 Quarantined:\", len(df_quarantine))\n",
    "print(df_quarantine.head())\n"
   ],
   "metadata": {
    "colab": {
     "base_uri": "https://localhost:8080/"
    },
    "id": "nqDUtGQO43Ml",
    "outputId": "e4dbb108-13c4-4ed3-d99b-5263d4cd2824"
   },
   "execution_count": 51,
   "outputs": [
    {
     "output_type": "stream",
     "name": "stdout",
     "text": [
      "🚨 Quarantined: 17\n",
      "                                                text      prob     stage  \\\n",
      "0  basil chupin oztzqpzotpgcomau fred miller wrot...  0.800322  adaptive   \n",
      "1  newsadminnetabuseemail group uiaregigooglegrou...  0.802701  adaptive   \n",
      "2  dr daniel solow drdslatinmailcom dr daniel sol...  0.801105  adaptive   \n",
      "3  mrserick ugo99latinmailcom direct tel882164665...  0.801455  adaptive   \n",
      "4  [DEJD] DesktopEngineer.com Headlines - $200 Fo...  0.801532  adaptive   \n",
      "\n",
      "                                             domains  \n",
      "0                                                 []  \n",
      "1                                                 []  \n",
      "2                                                 []  \n",
      "3                                                 []  \n",
      "4  [desktopengineer.com, desktopengineer.com, ins...  \n"
     ]
    }
   ]
  },
  {
   "cell_type": "markdown",
   "source": [
    "GAN / GPT-Style Adversarial Training"
   ],
   "metadata": {
    "id": "ujuDLhvF5AZs"
   }
  },
  {
   "cell_type": "code",
   "source": [
    "from transformers import AutoModelForCausalLM, AutoTokenizer\n",
    "import torch\n",
    "\n",
    "gen_model = AutoModelForCausalLM.from_pretrained(\"gpt2\")\n",
    "gen_tok = AutoTokenizer.from_pretrained(\"gpt2\")\n",
    "\n",
    "def generate_variants(prompt, num=3, max_len=40):\n",
    "    inputs = gen_tok.encode(prompt, return_tensors=\"pt\")\n",
    "    outputs = gen_model.generate(\n",
    "        inputs,\n",
    "        max_length=max_len,\n",
    "        num_return_sequences=num,\n",
    "        do_sample=True,\n",
    "        top_k=50,\n",
    "        top_p=0.95,\n",
    "        temperature=0.8\n",
    "    )\n",
    "    return [gen_tok.decode(o, skip_special_tokens=True) for o in outputs]\n",
    "\n",
    "# Example: generate GAN-like phishing variants\n",
    "sample = \"Reset your password immediately\"\n",
    "print(\"Variants:\", generate_variants(sample, num=3))\n"
   ],
   "metadata": {
    "colab": {
     "base_uri": "https://localhost:8080/",
     "height": 368,
     "referenced_widgets": [
      "f352bf285d0c416fa0b718e2a5cb9b56",
      "ba87d8052c6d47329c8ac0603614b409",
      "487dbd6a74f840ce97f2462ff0b58813",
      "b783e07e5eb943849809f03e6c93bfda",
      "62d4c533969d4ad393f13a7bad7569bc",
      "ed12aacbe82c485b82192088859e75a9",
      "c9256f4789fc4f78b3a879b83da05501",
      "0507e5baf604433397850b506b767589",
      "0c3055fc94a9480da30a5263f10c7088",
      "7bcf9fb72dca439fac5e9f8f3110fd89",
      "35d8abd0a0da46c48e36a73071d7784c",
      "6e0ced654d36471d8276df67b4402dc9",
      "32cb416bdf6645ebaf04e89ad82f6c23",
      "d8ac090d5ddf4be39f7aa4da2377f5b1",
      "8bb004a521d9491cadacbcd191b199df",
      "4bd98217689645d0b0d14e6f989e253c",
      "0f4ca1ed439d4e4397b21096a27e36b9",
      "e14115d3231f4edea32ad3444c7639fc",
      "061852cd2673440a9ad2e6f35ba44003",
      "e0c09edc7ab5419bacdd0addd001d356",
      "ed642d6c98da4a4699ba2b0e83022fdb",
      "8c0acb8991f641c786256858beba248b",
      "83f57d6c1f5b46a7a530e35bf2c720b6",
      "981f9af3545d448d8c541cc806d9a7dc",
      "34fa51dedd5c4af0882a976234366d2d",
      "f6d68b45c9284850a5a29882b5555f01",
      "3d7cf77b6496428d860fe9ea1c2d572a",
      "7f912754bc104f89969d362ee8be74a9",
      "4ca24a7cce6343c7bd6595925cac8eaf",
      "2247452e00d140e0ac53d85895ab1432",
      "3292d014bca9400a92b8ab041dc78f0c",
      "b7c58f0092914f84950a8148799fc849",
      "a9ae5b3f23b14f279a3983b33d060cd1",
      "49bc423968d34ae98bb7637527b72dff",
      "0832e9b9f2d14cb2b24d889003f7be61",
      "ec7f7bc2d8f44d11a145ceefc9d07035",
      "2f277eb3ff32400f85cb7f38d8f2ea25",
      "1c2d1e5551f74e6f82e6963a18e3be98",
      "dd8e95f27fec461598518a05d133c4c8",
      "6854dffac2ef4195a51dbf24d4d35571",
      "014a752b13514aa48cf399edbfd06e31",
      "571b9861f55a47d389adb713ad1e07ca",
      "2bae225a0f1a4e81b5592d79e747a917",
      "4947837b14f8404192e7429dc355dd7d",
      "65da2cf8cd3749c297224185cb912151",
      "23ea122461bb4532beef069f79554c39",
      "3977b52a1fcb43939e0249cc6b2e3368",
      "da1228ff5ca549f38f0d0e700318bdea",
      "d74243c2b8b14d5db387f4fda7528129",
      "08f5dda569254d99a76e387bbac22d1e",
      "ef99e793de6f4fc98ae3b60ade2846e6",
      "7b15b47c6fe843b7a14414fe3172f05a",
      "29eb4f3810874459b25b1c12266aa4ed",
      "3fcc49cbe04b4c94bfe94921f865400f",
      "9496d5d4ca9748d8a210fbc26ca413e2",
      "38107551bddf4c2fa32b356f330a01aa",
      "19ea27276a264770ae892cc9daaa401b",
      "bf2a4ff10d4b4567bcb19016bf2e40f3",
      "92bdaf879a6e4b4aac02e7fec9aeba9f",
      "14f8b83756234e45b4d8a052077cef7d",
      "3c51886612e3459eb52361d650d2cbb6",
      "687cc9b50f934117963e4d11ab4e366f",
      "f52d13fb65bf4549a1ffc31e9cc09500",
      "8f1225d2dc034790b0b5bfc3fc684dbc",
      "64e4d69542d14e3686ca8e35ca2039ba",
      "8e849afea06b4326beee23f207c4160c",
      "0658c4149980444999dafc8ba3d893d7",
      "564df828de504d7d99eadb25a270f6a9",
      "6c437458711342ccaaa88d92f8a661c8",
      "e1adc1a402f14c0986e70e376417f2ab",
      "552b5bbd419346fc9f887967ccb5df14",
      "06d88f9d90d14ed1891e1b3e2588fcb6",
      "8c01fbe0953741ab92ed1460b7661bc3",
      "d9f9bdcf0d50499caa2821f2b85154c3",
      "02d2385c6a3547af94f17f456b431f9f",
      "00d21652bb2b4c7197e8814603a538a5",
      "823dc1faf2ed45578ad8f3b29e1cccd4"
     ]
    },
    "id": "8jdjFv08435p",
    "outputId": "5d243395-eab8-475f-ab92-09019e0682e2"
   },
   "execution_count": 52,
   "outputs": [
    {
     "output_type": "display_data",
     "data": {
      "text/plain": [
       "config.json:   0%|          | 0.00/665 [00:00<?, ?B/s]"
      ],
      "application/vnd.jupyter.widget-view+json": {
       "version_major": 2,
       "version_minor": 0,
       "model_id": "f352bf285d0c416fa0b718e2a5cb9b56"
      }
     },
     "metadata": {}
    },
    {
     "output_type": "display_data",
     "data": {
      "text/plain": [
       "model.safetensors:   0%|          | 0.00/548M [00:00<?, ?B/s]"
      ],
      "application/vnd.jupyter.widget-view+json": {
       "version_major": 2,
       "version_minor": 0,
       "model_id": "6e0ced654d36471d8276df67b4402dc9"
      }
     },
     "metadata": {}
    },
    {
     "output_type": "display_data",
     "data": {
      "text/plain": [
       "generation_config.json:   0%|          | 0.00/124 [00:00<?, ?B/s]"
      ],
      "application/vnd.jupyter.widget-view+json": {
       "version_major": 2,
       "version_minor": 0,
       "model_id": "83f57d6c1f5b46a7a530e35bf2c720b6"
      }
     },
     "metadata": {}
    },
    {
     "output_type": "display_data",
     "data": {
      "text/plain": [
       "tokenizer_config.json:   0%|          | 0.00/26.0 [00:00<?, ?B/s]"
      ],
      "application/vnd.jupyter.widget-view+json": {
       "version_major": 2,
       "version_minor": 0,
       "model_id": "49bc423968d34ae98bb7637527b72dff"
      }
     },
     "metadata": {}
    },
    {
     "output_type": "display_data",
     "data": {
      "text/plain": [
       "vocab.json:   0%|          | 0.00/1.04M [00:00<?, ?B/s]"
      ],
      "application/vnd.jupyter.widget-view+json": {
       "version_major": 2,
       "version_minor": 0,
       "model_id": "65da2cf8cd3749c297224185cb912151"
      }
     },
     "metadata": {}
    },
    {
     "output_type": "display_data",
     "data": {
      "text/plain": [
       "merges.txt:   0%|          | 0.00/456k [00:00<?, ?B/s]"
      ],
      "application/vnd.jupyter.widget-view+json": {
       "version_major": 2,
       "version_minor": 0,
       "model_id": "38107551bddf4c2fa32b356f330a01aa"
      }
     },
     "metadata": {}
    },
    {
     "output_type": "display_data",
     "data": {
      "text/plain": [
       "tokenizer.json:   0%|          | 0.00/1.36M [00:00<?, ?B/s]"
      ],
      "application/vnd.jupyter.widget-view+json": {
       "version_major": 2,
       "version_minor": 0,
       "model_id": "0658c4149980444999dafc8ba3d893d7"
      }
     },
     "metadata": {}
    },
    {
     "output_type": "stream",
     "name": "stderr",
     "text": [
      "/usr/local/lib/python3.12/dist-packages/transformers/tokenization_utils_base.py:1601: FutureWarning: `clean_up_tokenization_spaces` was not set. It will be set to `True` by default. This behavior will be depracted in transformers v4.45, and will be then set to `False` by default. For more details check this issue: https://github.com/huggingface/transformers/issues/31884\n",
      "  warnings.warn(\n",
      "The attention mask and the pad token id were not set. As a consequence, you may observe unexpected behavior. Please pass your input's `attention_mask` to obtain reliable results.\n",
      "Setting `pad_token_id` to `eos_token_id`:50256 for open-end generation.\n",
      "The attention mask is not set and cannot be inferred from input because pad token is same as eos token. As a consequence, you may observe unexpected behavior. Please pass your input's `attention_mask` to obtain reliable results.\n"
     ]
    },
    {
     "output_type": "stream",
     "name": "stdout",
     "text": [
      "Variants: [\"Reset your password immediately, or if you're sure you want to reset your password at any time.\\n\\nNote: If you're not sure what password your account is on, please visit our\", 'Reset your password immediately. It is not possible to change your password after you leave the service. If you would like to remove your password, please check your account settings, then contact us.\\n\\n', \"Reset your password immediately, and then restart the system.\\n\\nNow, if you're having trouble connecting to your router and trying to reconnect, you can try disabling the default wireless connection and reconnect\"]\n"
     ]
    }
   ]
  },
  {
   "cell_type": "code",
   "source": [
    "def explain_decision(text):\n",
    "    ctx = context_risk(text)\n",
    "    wm  = watermarkish(text)\n",
    "    reasons = []\n",
    "    if ctx[\"urgent_hits\"] > 0: reasons.append(\"Urgency keywords\")\n",
    "    if ctx[\"shorteners\"] > 0: reasons.append(\"URL shortener\")\n",
    "    if ctx[\"suspicious_tlds\"] > 0: reasons.append(\"Suspicious TLD\")\n",
    "    if ctx[\"brand_spoof_signals\"] > 0: reasons.append(\"Brand spoofing\")\n",
    "    if wm[\"watermark_like_score\"] > 0.3: reasons.append(\"Watermark-like signals\")\n",
    "    return \", \".join(reasons) or \"No strong signals\"\n",
    "\n",
    "df_eval[\"reason\"] = df_eval[\"text\"].apply(explain_decision)\n",
    "print(df_eval[[\"text\",\"y_pred\",\"p\",\"reason\"]].head())\n"
   ],
   "metadata": {
    "colab": {
     "base_uri": "https://localhost:8080/"
    },
    "id": "3gcNMrzu49HD",
    "outputId": "d867e9a9-d764-437a-e84d-ccf6f5ddfec1"
   },
   "execution_count": 53,
   "outputs": [
    {
     "output_type": "stream",
     "name": "stdout",
     "text": [
      "                                                text  y_pred         p  \\\n",
      "0  job posting - apple-iss research center conten...       0  0.496557   \n",
      "1  nan lang classification grimes , joseph e . an...       1  0.717754   \n",
      "2  query : letter frequencies for text identifica...       0  0.095860   \n",
      "3  risk a colleague and i are researching the dif...       0  0.046904   \n",
      "4  request book information earlier this morning ...       0  0.046130   \n",
      "\n",
      "              reason  \n",
      "0  No strong signals  \n",
      "1  No strong signals  \n",
      "2  No strong signals  \n",
      "3  No strong signals  \n",
      "4  No strong signals  \n"
     ]
    }
   ]
  },
  {
   "cell_type": "code",
   "source": [
    "def user_feedback(email_text, is_false_positive=True):\n",
    "    \"\"\"\n",
    "    If user marks a legit mail incorrectly quarantined → reduce memory bias.\n",
    "    \"\"\"\n",
    "    doms = context_risk(email_text)[\"sample_domains\"]\n",
    "    if is_false_positive:\n",
    "        # remove these domains from memory\n",
    "        memory[\"bad_domains\"] = [d for d in memory[\"bad_domains\"] if d not in doms]\n",
    "        for phrase in [\"verify your account\",\"reset your password\",\"update payment\"]:\n",
    "            if phrase in email_text.lower():\n",
    "                if phrase in memory[\"bad_phrases\"]:\n",
    "                    memory[\"bad_phrases\"].remove(phrase)\n",
    "    save_memory()\n",
    "    print(\"✅ Memory updated after feedback\")\n",
    "\n",
    "# Example use\n",
    "user_feedback(\"This is a legit email from mybank.com\", is_false_positive=True)\n"
   ],
   "metadata": {
    "colab": {
     "base_uri": "https://localhost:8080/"
    },
    "id": "6mSwxCF45GDe",
    "outputId": "a0aa26ae-e29e-4f80-a5ed-8145b5e2e78b"
   },
   "execution_count": 54,
   "outputs": [
    {
     "output_type": "stream",
     "name": "stdout",
     "text": [
      "✅ Memory updated after feedback\n"
     ]
    }
   ]
  },
  {
   "cell_type": "code",
   "source": [
    "# Save as app.py\n",
    "from fastapi import FastAPI\n",
    "from pydantic import BaseModel\n",
    "\n",
    "app = FastAPI()\n",
    "\n",
    "class EmailRequest(BaseModel):\n",
    "    text: str\n",
    "\n",
    "@app.post(\"/scan_email\")\n",
    "def scan_email(req: EmailRequest):\n",
    "    stage, prob, details = orchestrate_email(req.text)\n",
    "    reason = explain_decision(req.text)\n",
    "    verdict = \"phish\" if prob >= 0.5 else \"legit\"\n",
    "    return {\n",
    "        \"verdict\": verdict,\n",
    "        \"probability\": prob,\n",
    "        \"stage\": stage,\n",
    "        \"reason\": reason,\n",
    "        \"details\": details\n",
    "    }\n",
    "\n",
    "# Run: uvicorn app:app --reload\n"
   ],
   "metadata": {
    "id": "91npgyPx9kfN"
   },
   "execution_count": 55,
   "outputs": []
  },
  {
   "cell_type": "code",
   "source": [
    "from sklearn.metrics import precision_recall_curve\n",
    "\n",
    "# Precision-Recall curve\n",
    "prec, rec, thr = precision_recall_curve(df_eval[\"y_true\"], df_eval[\"p\"])\n",
    "plt.figure(figsize=(5,4))\n",
    "plt.plot(rec, prec, label=\"PR curve\")\n",
    "plt.xlabel(\"Recall\"); plt.ylabel(\"Precision\")\n",
    "plt.title(\"Precision-Recall Curve\"); plt.legend(); plt.show()\n",
    "\n",
    "# Stage distribution\n",
    "stage_counts = df_eval[\"stage\"].value_counts()\n",
    "stage_counts.plot(kind=\"bar\", title=\"Detection stage distribution\", color=\"#3498db\")\n",
    "\n",
    "# False positives — analyze by domain\n",
    "fps = df_eval[(df_eval[\"y_true\"]==0) & (df_eval[\"y_pred\"]==1)]\n",
    "fp_domains = []\n",
    "for txt in fps[\"text\"].tolist():\n",
    "    fp_domains.extend(context_risk(txt)[\"sample_domains\"])\n",
    "fp_counts = pd.Series(fp_domains).value_counts().head(10)\n",
    "fp_counts.plot(kind=\"barh\", title=\"Top FP Domains\")\n",
    "plt.show()\n"
   ],
   "metadata": {
    "colab": {
     "base_uri": "https://localhost:8080/",
     "height": 892
    },
    "id": "OHuCkftJ9n2B",
    "outputId": "e068ff88-c01e-4dbf-ab49-32c16162ea69"
   },
   "execution_count": 57,
   "outputs": [
    {
     "output_type": "display_data",
     "data": {
      "text/plain": [
       "<Figure size 500x400 with 1 Axes>"
      ],
      "image/png": "[encoded data removed]"
     },
     "metadata": {}
    },
    {
     "output_type": "display_data",
     "data": {
      "text/plain": [
       "<Figure size 640x480 with 1 Axes>"
      ],
      "image/png": "[encoded data removed]"
     },
     "metadata": {}
    }
   ]
  },
  {
   "cell_type": "code",
   "source": [
    "import seaborn as sns\n",
    "from sklearn.metrics import confusion_matrix\n",
    "\n",
    "cm = confusion_matrix(df_eval[\"y_true\"], df_eval[\"y_pred\"])\n",
    "plt.figure(figsize=(5,4))\n",
    "sns.heatmap(cm, annot=True, fmt=\"d\", cmap=\"Blues\",\n",
    "            xticklabels=[\"Legit\",\"Phish\"], yticklabels=[\"Legit\",\"Phish\"])\n",
    "plt.xlabel(\"Predicted\"); plt.ylabel(\"True\")\n",
    "plt.title(\"Confusion Matrix — Email Phishing Detection\")\n",
    "plt.show()\n"
   ],
   "metadata": {
    "colab": {
     "base_uri": "https://localhost:8080/",
     "height": 410
    },
    "id": "hkC-6Cgq-JXU",
    "outputId": "75b605c1-7ea8-43cb-fbc0-3e6c2088ecb4"
   },
   "execution_count": 58,
   "outputs": [
    {
     "output_type": "display_data",
     "data": {
      "text/plain": [
       "<Figure size 500x400 with 2 Axes>"
      ],
      "image/png": "[encoded data removed]"
     },
     "metadata": {}
    }
   ]
  },
  {
   "cell_type": "code",
   "source": [
    "from sklearn.metrics import precision_recall_curve, auc\n",
    "\n",
    "prec, rec, _ = precision_recall_curve(df_eval[\"y_true\"], df_eval[\"p\"])\n",
    "pr_auc = auc(rec, prec)\n",
    "plt.figure(figsize=(5,4))\n",
    "plt.plot(rec, prec, label=f\"AUC={pr_auc:.3f}\")\n",
    "plt.xlabel(\"Recall\"); plt.ylabel(\"Precision\")\n",
    "plt.title(\"Precision-Recall Curve\")\n",
    "plt.legend(); plt.show()\n"
   ],
   "metadata": {
    "colab": {
     "base_uri": "https://localhost:8080/",
     "height": 410
    },
    "id": "0Y8Jpw6l-Kaz",
    "outputId": "9fd71bc4-9084-42ce-bab8-ce1b339b9ea7"
   },
   "execution_count": 59,
   "outputs": [
    {
     "output_type": "display_data",
     "data": {
      "text/plain": [
       "<Figure size 500x400 with 1 Axes>"
      ],
      "image/png": "[encoded data removed]"
     },
     "metadata": {}
    }
   ]
  },
  {
   "cell_type": "code",
   "source": [
    "plt.figure(figsize=(6,4))\n",
    "sns.countplot(data=df_eval, x=\"stage\", palette=\"Set2\")\n",
    "plt.title(\"Where the Immune System Stopped Emails\")\n",
    "plt.xlabel(\"Stage of Detection\"); plt.ylabel(\"Email Count\")\n",
    "plt.show()\n"
   ],
   "metadata": {
    "colab": {
     "base_uri": "https://localhost:8080/",
     "height": 499
    },
    "id": "sIME_sae-N81",
    "outputId": "e87f4361-ff08-400b-e7f1-2ac074d4a15c"
   },
   "execution_count": 60,
   "outputs": [
    {
     "output_type": "stream",
     "name": "stderr",
     "text": [
      "/tmp/ipython-input-3910963928.py:2: FutureWarning: \n",
      "\n",
      "Passing `palette` without assigning `hue` is deprecated and will be removed in v0.14.0. Assign the `x` variable to `hue` and set `legend=False` for the same effect.\n",
      "\n",
      "  sns.countplot(data=df_eval, x=\"stage\", palette=\"Set2\")\n"
     ]
    },
    {
     "output_type": "display_data",
     "data": {
      "text/plain": [
       "<Figure size 600x400 with 1 Axes>"
      ],
      "image/png": "[encoded data removed]"
     },
     "metadata": {}
    }
   ]
  },
  {
   "cell_type": "code",
   "source": [
    "fp_domains = []\n",
    "for txt in df_eval.loc[(df_eval[\"y_true\"]==0)&(df_eval[\"y_pred\"]==1), \"text\"]:\n",
    "    fp_domains.extend(context_risk(txt)[\"sample_domains\"])\n",
    "\n",
    "fp_counts = pd.Series(fp_domains).value_counts().head(10)\n",
    "\n",
    "plt.figure(figsize=(6,4))\n",
    "fp_counts.plot(kind=\"barh\", color=\"#e67e22\")\n",
    "plt.gca().invert_yaxis()\n",
    "plt.title(\"Top Domains in False Positives\")\n",
    "plt.xlabel(\"Frequency\")\n",
    "plt.show()\n"
   ],
   "metadata": {
    "colab": {
     "base_uri": "https://localhost:8080/",
     "height": 410
    },
    "id": "y3d-Rpph-Pw8",
    "outputId": "82575eb8-957c-43e3-de87-4110a1b7bc21"
   },
   "execution_count": 61,
   "outputs": [
    {
     "output_type": "display_data",
     "data": {
      "text/plain": [
       "<Figure size 600x400 with 1 Axes>"
      ],
      "image/png": "[encoded data removed]"
     },
     "metadata": {}
    }
   ]
  },
  {
   "cell_type": "code",
   "source": [
    "# ==== 0) Prereqs: needs df_eval with [\"text\",\"y_true\"] ====\n",
    "# If you don't have df_eval in memory, rebuild quickly:\n",
    "# (skip if it's already there)\n",
    "if \"df_eval\" not in globals():\n",
    "    import os, pandas as pd\n",
    "    base_dir = \"/content/email_phishing_dataset\"\n",
    "    csvs = []\n",
    "    for r,_,fs in os.walk(base_dir):\n",
    "        for f in fs:\n",
    "            if f.lower().endswith(\".csv\"):\n",
    "                csvs.append(os.path.join(r,f))\n",
    "    dfs = []\n",
    "    for f in csvs:\n",
    "        try:\n",
    "            d = pd.read_csv(f, encoding=\"utf-8\", on_bad_lines=\"skip\")\n",
    "            if \"text\" not in d.columns:\n",
    "                possible = [c for c in d.columns if c.lower() in [\"subject\",\"body\",\"message\",\"content\",\"email_text\",\"text_\"]]\n",
    "                d[\"text\"] = d[possible].astype(str).agg(\" \".join, axis=1) if possible else d.astype(str).agg(\" \".join, axis=1)\n",
    "            dfs.append(d)\n",
    "        except Exception as e:\n",
    "            print(\"skip\", f, e)\n",
    "    df_emails = pd.concat(dfs, ignore_index=True)\n",
    "    # find a label column & normalize to 0/1\n",
    "    lab_cols = [c for c in df_emails.columns if c.lower() in (\"label\",\"labels\",\"target\",\"is_spam\",\"is_phishing\")]\n",
    "    assert lab_cols, \"No label column found\"\n",
    "    lab_col = lab_cols[0]\n",
    "    def to01(v):\n",
    "        try:\n",
    "            return int(float(v) >= 0.5)\n",
    "        except:\n",
    "            return 1 if str(v).strip().lower() in (\"spam\",\"phish\",\"phishing\",\"1\",\"true\") else 0\n",
    "    df_eval = df_emails.loc[df_emails[lab_col].notna(), [\"text\", lab_col]].copy()\n",
    "    df_eval = df_eval.rename(columns={lab_col:\"y_true\"})\n",
    "    df_eval[\"y_true\"] = df_eval[\"y_true\"].apply(to01).astype(int)\n",
    "    print(\"✅ rebuilt df_eval:\", df_eval.shape)\n",
    "\n",
    "# ==== 1) Build df_real (true phishing samples) ====\n",
    "import pandas as pd\n",
    "N_PER_CLASS = 500  # target count for each group in the plot\n",
    "df_real = df_eval[df_eval[\"y_true\"]==1][[\"text\"]].dropna().sample(\n",
    "    n=min(N_PER_CLASS, df_eval[\"y_true\"].eq(1).sum()), random_state=42\n",
    ").reset_index(drop=True)\n",
    "\n",
    "print(\"Real phishing rows:\", len(df_real))\n",
    "\n",
    "# ==== 2) Build df_gan: safe paraphrases or GPT-2 variants ====\n",
    "# A) fast + safe paraphraser (no downloads) – recommended\n",
    "import re, numpy as np\n",
    "SAFE_REPL = [\n",
    "    (\"verify your account\", \"confirm your account\"),\n",
    "    (\"reset your password\", \"update your credentials\"),\n",
    "    (\"within 2 hours\", \"as soon as possible\"),\n",
    "    (\"click here\", \"follow this link\"),\n",
    "    (\"account suspended\", \"access restricted\"),\n",
    "    (\"login now\", \"sign in now\"),\n",
    "    (\"confirm your identity\", \"validate your identity\"),\n",
    "]\n",
    "def safe_paraphrases(text, k=3):\n",
    "    outs = {text}\n",
    "    low = text.lower()\n",
    "    for a,b in SAFE_REPL:\n",
    "        if a in low and len(outs) < k+1:\n",
    "            outs.add(re.sub(a, b, text, flags=re.IGNORECASE))\n",
    "    # minor neutral tweaks\n",
    "    if \",\" in text and len(outs) < k+1:\n",
    "        outs.add(text.replace(\",\", \" —\"))\n",
    "    if \"immediately\" in low and len(outs) < k+1:\n",
    "        outs.add(re.sub(\"immediately\", \"right away\", text, flags=re.IGNORECASE))\n",
    "    return list(outs)[:k]\n",
    "\n",
    "# B) Optional GPT-2 generator (set to True to try)\n",
    "USE_GPT2 = False\n",
    "if USE_GPT2:\n",
    "    try:\n",
    "        from transformers import AutoModelForCausalLM, AutoTokenizer\n",
    "        import torch\n",
    "        gen_model = AutoModelForCausalLM.from_pretrained(\"gpt2\")\n",
    "        gen_tok   = AutoTokenizer.from_pretrained(\"gpt2\")\n",
    "        def gpt2_variants(prompt, num=2, max_len=56):\n",
    "            inp = gen_tok.encode(prompt, return_tensors=\"pt\")\n",
    "            out = gen_model.generate(\n",
    "                inp, max_length=max_len, num_return_sequences=num,\n",
    "                do_sample=True, top_k=50, top_p=0.95, temperature=0.8\n",
    "            )\n",
    "            return [gen_tok.decode(o, skip_special_tokens=True) for o in out]\n",
    "    except Exception as e:\n",
    "        print(\"⚠️ GPT-2 not available, using safe paraphrases only:\", e)\n",
    "        USE_GPT2 = False\n",
    "\n",
    "# Build df_gan\n",
    "gan_texts = []\n",
    "for t in df_real[\"text\"].tolist():\n",
    "    cands = safe_paraphrases(t, k=3)\n",
    "    if USE_GPT2:\n",
    "        try:\n",
    "            cands += gpt2_variants(t, num=1)\n",
    "        except Exception:\n",
    "            pass\n",
    "    # keep only slightly different variants\n",
    "    uniq = []\n",
    "    seen = set()\n",
    "    for c in cands:\n",
    "        c_norm = re.sub(r\"\\s+\", \" \", c.strip())\n",
    "        if c_norm and c_norm not in seen and c_norm.lower()!=t.lower():\n",
    "            uniq.append(c_norm); seen.add(c_norm)\n",
    "    if uniq:\n",
    "        gan_texts.append(np.random.choice(uniq))\n",
    "    if len(gan_texts) >= N_PER_CLASS:\n",
    "        break\n",
    "\n",
    "df_gan = pd.DataFrame({\"text\": gan_texts})\n",
    "print(\"GAN-like variants:\", len(df_gan))\n",
    "\n",
    "# If too few variants generated, top up by reusing safe paraphrases:\n",
    "while len(df_gan) < len(df_real):\n",
    "    extra = []\n",
    "    for t in df_real[\"text\"].sample(frac=0.5, random_state=7).tolist():\n",
    "        sp = safe_paraphrases(t, k=2)\n",
    "        if sp:\n",
    "            extra.append(sp[-1])\n",
    "        if len(extra) + len(df_gan) >= len(df_real):\n",
    "            break\n",
    "    if not extra: break\n",
    "    df_gan = pd.concat([df_gan, pd.DataFrame({\"text\": extra})], ignore_index=True)\n",
    "\n",
    "df_gan = df_gan.sample(n=min(len(df_gan), len(df_real)), random_state=42).reset_index(drop=True)\n",
    "print(\"Final sizes -> real:\", len(df_real), \" | gan:\", len(df_gan))\n",
    "\n",
    "# ==== 3) Vectorize + t-SNE (robust) ====\n",
    "from sklearn.feature_extraction.text import TfidfVectorizer\n",
    "from sklearn.manifold import TSNE\n",
    "from sklearn.decomposition import PCA\n",
    "import matplotlib.pyplot as plt\n",
    "\n",
    "texts = df_real[\"text\"].tolist() + df_gan[\"text\"].tolist()\n",
    "labels = ([\"Real\"]*len(df_real)) + ([\"GAN\"]*len(df_gan))\n",
    "\n",
    "vec = TfidfVectorizer(max_features=2000)\n",
    "X = vec.fit_transform(texts).toarray()\n",
    "\n",
    "# Pick a valid perplexity (< n_samples)\n",
    "n_samples = X.shape[0]\n",
    "perp = 30 if n_samples > 100 else max(5, min(20, n_samples//3))\n",
    "\n",
    "try:\n",
    "    tsne = TSNE(n_components=2, random_state=42, perplexity=perp, n_iter=1000)\n",
    "    X_emb = tsne.fit_transform(X)\n",
    "except Exception as e:\n",
    "    print(\"⚠️ t-SNE fallback to PCA:\", e)\n",
    "    X_emb = PCA(n_components=2, random_state=42).fit_transform(X)\n",
    "\n",
    "# ==== 4) Plot ====\n",
    "import pandas as pd\n",
    "df_plot = pd.DataFrame(X_emb, columns=[\"x\",\"y\"])\n",
    "df_plot[\"label\"] = labels\n",
    "\n",
    "plt.figure(figsize=(7,6))\n",
    "for lab, col in ((\"Real\", \"#3498db\"), (\"GAN\",\"#e74c3c\")):\n",
    "    sub = df_plot[df_plot[\"label\"]==lab]\n",
    "    plt.scatter(sub[\"x\"], sub[\"y\"], c=col, alpha=0.6, label=lab, s=18)\n",
    "plt.legend()\n",
    "plt.title(\"t-SNE: Real vs GAN-generated Phishing Variants\")\n",
    "plt.xlabel(\"Dim 1\"); plt.ylabel(\"Dim 2\")\n",
    "plt.tight_layout()\n",
    "plt.show()\n"
   ],
   "metadata": {
    "colab": {
     "base_uri": "https://localhost:8080/",
     "height": 696
    },
    "id": "Zp_Z0xSd-ZeT",
    "outputId": "b592ecae-3b7f-4342-a83a-2cdf903ff195"
   },
   "execution_count": 66,
   "outputs": [
    {
     "output_type": "stream",
     "name": "stdout",
     "text": [
      "Real phishing rows: 500\n",
      "GAN-like variants: 255\n",
      "Final sizes -> real: 500  | gan: 500\n"
     ]
    },
    {
     "output_type": "stream",
     "name": "stderr",
     "text": [
      "/usr/local/lib/python3.12/dist-packages/sklearn/manifold/_t_sne.py:1162: FutureWarning: 'n_iter' was renamed to 'max_iter' in version 1.5 and will be removed in 1.7.\n",
      "  warnings.warn(\n"
     ]
    },
    {
     "output_type": "display_data",
     "data": {
      "text/plain": [
       "<Figure size 700x600 with 1 Axes>"
      ],
      "image/png": "[encoded data removed]"
     },
     "metadata": {}
    }
   ]
  },
  {
   "cell_type": "code",
   "source": [
    "from sklearn.model_selection import train_test_split\n",
    "from sklearn.feature_extraction.text import TfidfVectorizer\n",
    "from sklearn.linear_model import LogisticRegression\n",
    "from sklearn.metrics import roc_curve, roc_auc_score\n",
    "import matplotlib.pyplot as plt\n",
    "import pandas as pd\n",
    "import numpy as np\n",
    "\n",
    "# ===== 1) Split your dataset =====\n",
    "X_train, X_test, y_train, y_test = train_test_split(\n",
    "    df_eval[\"text\"].astype(str),\n",
    "    df_eval[\"y_true\"].values,\n",
    "    test_size=0.2, random_state=42, stratify=df_eval[\"y_true\"]\n",
    ")\n",
    "\n",
    "# ===== 2) Baseline TF-IDF + Logistic Regression =====\n",
    "tfidf = TfidfVectorizer(max_features=20000, ngram_range=(1,2), min_df=3)\n",
    "Xtr = tfidf.fit_transform(X_train)\n",
    "Xte = tfidf.transform(X_test)\n",
    "\n",
    "clf_base = LogisticRegression(max_iter=300, class_weight=\"balanced\")\n",
    "clf_base.fit(Xtr, y_train)\n",
    "\n",
    "y_probs_before = clf_base.predict_proba(Xte)[:,1]\n",
    "\n",
    "# ===== 3) Generate GAN-like \"vaccine\" samples =====\n",
    "def safe_paraphrases(text, k=2):\n",
    "    SAFE_REPL = [\n",
    "        (\"verify your account\", \"confirm your account\"),\n",
    "        (\"reset your password\", \"update your credentials\"),\n",
    "        (\"within 2 hours\", \"as soon as possible\"),\n",
    "        (\"click here\", \"follow this link\"),\n",
    "        (\"account suspended\", \"access restricted\"),\n",
    "    ]\n",
    "    outs = {text}\n",
    "    for a,b in SAFE_REPL:\n",
    "        if a in text.lower() and len(outs)<k+1:\n",
    "            outs.add(text.replace(a,b))\n",
    "    return list(outs)[:k]\n",
    "\n",
    "X_aug, y_aug = [], []\n",
    "for t,y in zip(X_train.tolist(), y_train.tolist()):\n",
    "    cands = safe_paraphrases(t)\n",
    "    if cands:\n",
    "        # phishing (1): keep variants that look more legit (confuse model)\n",
    "        if y==1:\n",
    "            X_aug.append(cands[-1]); y_aug.append(1)\n",
    "        # legit (0): keep variants that look more phishy\n",
    "        else:\n",
    "            X_aug.append(cands[0]); y_aug.append(0)\n",
    "\n",
    "print(\"Augmented samples:\", len(X_aug))\n",
    "\n",
    "# ===== 4) Retrain with vaccination =====\n",
    "Xtr2 = tfidf.fit_transform(pd.concat([pd.Series(X_train), pd.Series(X_aug)], ignore_index=True))\n",
    "ytr2 = np.concatenate([y_train, np.array(y_aug)])\n",
    "\n",
    "clf_vac = LogisticRegression(max_iter=300, class_weight=\"balanced\")\n",
    "clf_vac.fit(Xtr2, ytr2)\n",
    "\n",
    "Xte2 = tfidf.transform(X_test)\n",
    "y_probs_after = clf_vac.predict_proba(Xte2)[:,1]\n",
    "\n",
    "# ===== 5) ROC Curves Before vs After =====\n",
    "fpr1,tpr1,_ = roc_curve(y_test, y_probs_before)\n",
    "fpr2,tpr2,_ = roc_curve(y_test, y_probs_after)\n",
    "\n",
    "plt.figure(figsize=(6,5))\n",
    "plt.plot(fpr1, tpr1, label=f\"Before GAN (AUC={roc_auc_score(y_test, y_probs_before):.3f})\", color=\"#e67e22\")\n",
    "plt.plot(fpr2, tpr2, label=f\"After GAN (AUC={roc_auc_score(y_test, y_probs_after):.3f})\", color=\"#27ae60\")\n",
    "plt.plot([0,1],[0,1],\"--\",c=\"gray\")\n",
    "plt.xlabel(\"False Positive Rate\"); plt.ylabel(\"True Positive Rate\")\n",
    "plt.title(\"ROC — Effect of GAN Antibody Vaccination\")\n",
    "plt.legend()\n",
    "plt.show()\n"
   ],
   "metadata": {
    "colab": {
     "base_uri": "https://localhost:8080/",
     "height": 505
    },
    "id": "gTX95Ujy-bNj",
    "outputId": "334768e9-84fc-4073-bbed-8cb745722ec6"
   },
   "execution_count": 68,
   "outputs": [
    {
     "output_type": "stream",
     "name": "stdout",
     "text": [
      "Augmented samples: 131977\n"
     ]
    },
    {
     "output_type": "display_data",
     "data": {
      "text/plain": [
       "<Figure size 600x500 with 1 Axes>"
      ],
      "image/png": "[encoded data removed]"
     },
     "metadata": {}
    }
   ]
  },
  {
   "cell_type": "code",
   "source": [
    "import seaborn as sns\n",
    "import matplotlib.pyplot as plt\n",
    "import pandas as pd\n",
    "\n",
    "# ✅ Define phrases of interest\n",
    "phrases = [\"verify your account\", \"reset your password\", \"update payment\", \"wire transfer\"]\n",
    "\n",
    "# ✅ Count occurrences in real vs GAN datasets\n",
    "counts_real = [df_real[\"text\"].str.contains(p, case=False, na=False).sum() for p in phrases]\n",
    "counts_gan  = [df_gan[\"text\"].str.contains(p, case=False, na=False).sum() for p in phrases]\n",
    "\n",
    "# ✅ Build DataFrame\n",
    "df_phr = pd.DataFrame({\n",
    "    \"Real Emails\": counts_real,\n",
    "    \"GAN Variants\": counts_gan\n",
    "}, index=phrases)\n",
    "\n",
    "# ✅ Heatmap\n",
    "plt.figure(figsize=(6,4))\n",
    "sns.heatmap(df_phr, annot=True, cmap=\"Reds\", fmt=\"d\", cbar=False)\n",
    "plt.title(\"Phishing Trigger Phrases — Real vs GAN-generated\")\n",
    "plt.ylabel(\"Trigger Phrase\")\n",
    "plt.xlabel(\"Dataset\")\n",
    "plt.tight_layout()\n",
    "plt.show()\n"
   ],
   "metadata": {
    "colab": {
     "base_uri": "https://localhost:8080/",
     "height": 407
    },
    "id": "H_gqBg5E-dmG",
    "outputId": "0f6e4ec3-609c-492b-b290-4d01d2ca6ba1"
   },
   "execution_count": 69,
   "outputs": [
    {
     "output_type": "display_data",
     "data": {
      "text/plain": [
       "<Figure size 600x400 with 1 Axes>"
      ],
      "image/png": "[encoded data removed]"
     },
     "metadata": {}
    }
   ]
  },
  {
   "cell_type": "code",
   "source": [],
   "metadata": {
    "id": "JQMAeVr9-fvF"
   },
   "execution_count": null,
   "outputs": []
  }
 ]
}